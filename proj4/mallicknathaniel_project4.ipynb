{
 "cells": [
  {
   "cell_type": "markdown",
   "id": "e5f3d72e",
   "metadata": {},
   "source": [
    "# NATHANIEL MALLICK\n",
    "## PROJECT 4\n",
    "### ECE 1180"
   ]
  },
  {
   "cell_type": "markdown",
   "id": "d1f33342",
   "metadata": {},
   "source": [
    "<h4><font color=\"red\">IMPORTS</h4>"
   ]
  },
  {
   "cell_type": "code",
   "execution_count": 1,
   "id": "a6b24f82",
   "metadata": {},
   "outputs": [
    {
     "data": {
      "text/html": [
       "<div id=\"glowscript\" class=\"glowscript\"></div>"
      ],
      "text/plain": [
       "<IPython.core.display.HTML object>"
      ]
     },
     "metadata": {},
     "output_type": "display_data"
    },
    {
     "data": {
      "application/javascript": [
       "if (typeof Jupyter !== \"undefined\") { window.__context = { glowscript_container: $(\"#glowscript\").removeAttr(\"id\")};}else{ element.textContent = ' ';}"
      ],
      "text/plain": [
       "<IPython.core.display.Javascript object>"
      ]
     },
     "metadata": {},
     "output_type": "display_data"
    }
   ],
   "source": [
    "\n",
    "\n",
    "from vpython import *\n",
    "from statistics import mean \n",
    "import matplotlib.pyplot as plt\n",
    "import random \n",
    "import copy\n",
    "\n"
   ]
  },
  {
   "cell_type": "markdown",
   "id": "3612f42a",
   "metadata": {},
   "source": [
    "\n",
    "<h2 align=\"center\"> <font size=\"20pt\">RANDOM WALK</font></h2>\n",
    "\n",
    "\n",
    "<br><br>\n",
    "<h4><font color=\"red\">PLEASE RUN THE NEXT CELL - RANDOM WALK</font></h4>\n"
   ]
  },
  {
   "cell_type": "code",
   "execution_count": 116,
   "id": "1b476891",
   "metadata": {},
   "outputs": [],
   "source": [
    "\n",
    "\n",
    "class randomWalk:\n",
    "    def __init__(self):\n",
    "        self.totalSteps = 0\n",
    "        self.size = vec(0.9,0.9,0.1)\n",
    "        self.init_pos = vec(0,0,0)\n",
    "        self.curr_pos = self.init_pos\n",
    "        \n",
    "        self.steps = [\n",
    "                vec(-1,0,0), vec(-1,1,0), vec(0,1,0), vec(1,1,0),\n",
    "                vec(1,0,0), vec(1,-1,0), vec(0,-1,0), vec(-1,-1,0)\n",
    "        ]\n",
    "        \n",
    "    def move(self, visible=True):\n",
    "        if visible:\n",
    "            s = box(size=self.size, pos=self.curr_pos, color=color.white)\n",
    "        \n",
    "        self.curr_pos += random.choice(self.steps)\n",
    "        self.totalSteps += 1\n",
    "    \n",
    "    def getSteps(self): \n",
    "        return self.totalSteps\n",
    "    \n",
    "    def getPosition(self):\n",
    "        return self.curr_pos\n",
    "    \n",
    "    def restart(self): \n",
    "        self.curr_pos = self.init_pos\n",
    "        self.totalSteps = 0 "
   ]
  },
  {
   "cell_type": "markdown",
   "id": "1bfed963",
   "metadata": {},
   "source": [
    "\n",
    "### Visualisation \n"
   ]
  },
  {
   "cell_type": "code",
   "execution_count": 117,
   "id": "b818c0bc",
   "metadata": {},
   "outputs": [
    {
     "data": {
      "text/html": [
       "<div id=\"glowscript\" class=\"glowscript\"></div>"
      ],
      "text/plain": [
       "<IPython.core.display.HTML object>"
      ]
     },
     "metadata": {},
     "output_type": "display_data"
    },
    {
     "data": {
      "application/javascript": [
       "if (typeof Jupyter !== \"undefined\") { window.__context = { glowscript_container: $(\"#glowscript\").removeAttr(\"id\")};}else{ element.textContent = ' ';}"
      ],
      "text/plain": [
       "<IPython.core.display.Javascript object>"
      ]
     },
     "metadata": {},
     "output_type": "display_data"
    }
   ],
   "source": [
    "scene = canvas()\n",
    "walk = randomWalk()\n",
    "limit = 1000 # limit for the number of steps taken \n",
    "\n",
    "while walk.getSteps() <= limit: \n",
    "    rate(40) # looping rate \n",
    "    walk.move(visible=True) # true makes vpython objects, false just computes the steps "
   ]
  },
  {
   "cell_type": "markdown",
   "id": "163a52b6",
   "metadata": {},
   "source": [
    "### Computation (no visualisation)"
   ]
  },
  {
   "cell_type": "code",
   "execution_count": 119,
   "id": "606d19df",
   "metadata": {},
   "outputs": [
    {
     "data": {
      "text/html": [
       "<div id=\"glowscript\" class=\"glowscript\"></div>"
      ],
      "text/plain": [
       "<IPython.core.display.HTML object>"
      ]
     },
     "metadata": {},
     "output_type": "display_data"
    },
    {
     "data": {
      "application/javascript": [
       "if (typeof Jupyter !== \"undefined\") { window.__context = { glowscript_container: $(\"#glowscript\").removeAttr(\"id\")};}else{ element.textContent = ' ';}"
      ],
      "text/plain": [
       "<IPython.core.display.Javascript object>"
      ]
     },
     "metadata": {},
     "output_type": "display_data"
    },
    {
     "data": {
      "image/png": "[encoded data removed]",
      "text/plain": [
       "<Figure size 432x288 with 1 Axes>"
      ]
     },
     "metadata": {
      "needs_background": "light"
     },
     "output_type": "display_data"
    }
   ],
   "source": [
    "scene = canvas()\n",
    "walk = randomWalk()\n",
    "limit = 1000\n",
    "dist = []\n",
    "\n",
    "for i in range(100):     \n",
    "    while walk.getSteps() <= limit: \n",
    "        walk.move(visible=False)\n",
    "    \n",
    "    dist.append(mag(walk.getPosition()))\n",
    "    walk.restart()\n",
    "\n",
    "## Data ##\n",
    "x = [ (x+1) for x in range(100)]\n",
    "means = [ mean(dist[0:i+1]) for i in range(100) ] # mean of distance magnitudes \n",
    "\n",
    "## Plotting ##\n",
    "plt.title(\"Random Walk\")\n",
    "plt.axhline(y=sqrt(limit), color='r', linestyle='-', label=\"sqrt(N)\")\n",
    "plt.plot(x, means, 'b', label=\"averages\")\n",
    "plt.legend()\n",
    "plt.show()"
   ]
  },
  {
   "cell_type": "markdown",
   "id": "1093e3b9",
   "metadata": {},
   "source": [
    "\n",
    "<h2 align=\"center\"> <font size=\"20pt\">CELULAR AUTONOMA 2D</font></h2>\n",
    "\n",
    "\n",
    "<br><br>\n",
    "<h4><font color=\"red\">PLEASE RUN THE NEXT CELL - FOR 2D CELLULAR AUTONOMA</font></h4>\n"
   ]
  },
  {
   "cell_type": "code",
   "execution_count": 120,
   "id": "e9e2f886",
   "metadata": {},
   "outputs": [],
   "source": [
    "class cell: \n",
    "    def __init__(self, left=None, right=None, state=False, id=None): \n",
    "        ## Holds dead or alive state\n",
    "        self.state = state\n",
    "        self.nextState = state \n",
    "        \n",
    "        ## Id for debugging\n",
    "        self.id = id\n",
    "        \n",
    "        ## wanna-be pointers \n",
    "        self. rightNeighbor = None\n",
    "        self.leftNeighbor = None\n",
    "        \n",
    "        if right != None and right.leftNeighbor == None: \n",
    "            self.rightNeighbor = right\n",
    "            right.leftNeighbor = self \n",
    "            \n",
    "        if left != None and left.rightNeighbor == None: \n",
    "            self.leftNeighbor = left\n",
    "            left.rightNeighbor = self \n",
    "\n",
    "    ## Update the cells state ## \n",
    "    def update(self): \n",
    "        self.state = self.nextState\n",
    "    \n",
    "class autonoma: \n",
    "    def __init__(self, rule=\"00011110\", length=32): \n",
    "        ## Cell vector\n",
    "        self.cells = []\n",
    "        self.row = 0 \n",
    "        \n",
    "        ## Create cells ##\n",
    "        for i in range(length): \n",
    "            if i == length-1: \n",
    "                self.cells.append(cell(state=False, left=self.cells[i-1], right=self.cells[0], id=i))\n",
    "            elif i > 0:\n",
    "                self.cells.append(cell(state=False, left=self.cells[i-1], id=i))\n",
    "            else: \n",
    "                self.cells.append(cell(state=False, id=i))\n",
    "        \n",
    "        ## Set the middle cell to be alive ##\n",
    "        self.cells[int(len(self.cells)/2)].state = True  \n",
    "        \n",
    "        ## Rules defined by the input binary string ##\n",
    "        self.rules = { \n",
    "            \"000\" : bool(int(rule[len(rule)-1])), \n",
    "            \"001\" : bool(int(rule[len(rule)-2])), \n",
    "            \"010\" : bool(int(rule[len(rule)-3])), \n",
    "            \"011\" : bool(int(rule[len(rule)-4])),\n",
    "            \"100\" : bool(int(rule[len(rule)-5])),\n",
    "            \"101\" : bool(int(rule[len(rule)-6])),\n",
    "            \"110\" : bool(int(rule[len(rule)-7])),\n",
    "            \"111\" : bool(int(rule[len(rule)-8]))\n",
    "        }\n",
    "    \n",
    "    ## Update all of the next states according to the rules ##\n",
    "    def updateNextStates(self): \n",
    "        for i in range(len(self.cells)): \n",
    "            self.cells[i].nextState = self.rules[\n",
    "                str(int(self.cells[i].leftNeighbor.state)) +\n",
    "                str(int(self.cells[i].state)) + \n",
    "                str(int(self.cells[i].rightNeighbor.state))\n",
    "            ]\n",
    "\n",
    "    ## Update VPYTHON visual ##\n",
    "    def update(self): \n",
    "        self.updateNextStates()\n",
    "        size = vec(1,1,0.1)\n",
    "        for i in range(len(self.cells)): \n",
    "            if self.cells[i].state == True:\n",
    "                s = box(pos=vec(i-int(len(self.cells)/2), -self.row, 0), size=size, color=color.white)\n",
    "            else:\n",
    "                s = box(pos=vec(i-int(len(self.cells)/2), -self.row, 0), size=size, color=color.black)\n",
    "                s.visible = False\n",
    "            self.cells[i].update()\n",
    "\n",
    "        self.row+=1"
   ]
  },
  {
   "cell_type": "markdown",
   "id": "9eb113b1",
   "metadata": {},
   "source": [
    "\n",
    "## -------- Rule 30 -------- \n"
   ]
  },
  {
   "cell_type": "code",
   "execution_count": 121,
   "id": "65daee23",
   "metadata": {},
   "outputs": [
    {
     "data": {
      "text/html": [
       "<div id=\"glowscript\" class=\"glowscript\"></div>"
      ],
      "text/plain": [
       "<IPython.core.display.HTML object>"
      ]
     },
     "metadata": {},
     "output_type": "display_data"
    },
    {
     "data": {
      "application/javascript": [
       "if (typeof Jupyter !== \"undefined\") { window.__context = { glowscript_container: $(\"#glowscript\").removeAttr(\"id\")};}else{ element.textContent = ' ';}"
      ],
      "text/plain": [
       "<IPython.core.display.Javascript object>"
      ]
     },
     "metadata": {},
     "output_type": "display_data"
    }
   ],
   "source": [
    "scene = canvas()\n",
    "game = autonoma(rule=\"00011110\") ## Rule 30 \n",
    "\n",
    "while game.row < 16: \n",
    "    sleep(1)\n",
    "    game.update()\n",
    "    "
   ]
  },
  {
   "cell_type": "markdown",
   "id": "200d2fe0",
   "metadata": {},
   "source": [
    "\n",
    "## -------- Rule 126 -------- \n"
   ]
  },
  {
   "cell_type": "code",
   "execution_count": 114,
   "id": "f24a293f",
   "metadata": {},
   "outputs": [
    {
     "data": {
      "text/html": [
       "<div id=\"glowscript\" class=\"glowscript\"></div>"
      ],
      "text/plain": [
       "<IPython.core.display.HTML object>"
      ]
     },
     "metadata": {},
     "output_type": "display_data"
    },
    {
     "data": {
      "application/javascript": [
       "if (typeof Jupyter !== \"undefined\") { window.__context = { glowscript_container: $(\"#glowscript\").removeAttr(\"id\")};}else{ element.textContent = ' ';}"
      ],
      "text/plain": [
       "<IPython.core.display.Javascript object>"
      ]
     },
     "metadata": {},
     "output_type": "display_data"
    }
   ],
   "source": [
    "scene = canvas()\n",
    "game = autonoma(rule=\"1111110\") ## Rule 30 \n",
    "\n",
    "while game.row < 16: \n",
    "    sleep(1)\n",
    "    game.update()"
   ]
  },
  {
   "cell_type": "markdown",
   "id": "148c5e42",
   "metadata": {},
   "source": [
    "\n",
    "## -------- Rule 158 -------- \n"
   ]
  },
  {
   "cell_type": "code",
   "execution_count": null,
   "id": "95c3e1df",
   "metadata": {},
   "outputs": [],
   "source": [
    "scene = canvas()\n",
    "game = autonoma(rule=\"10011110\") ## Rule 158 \n",
    "\n",
    "while game.row < 16: \n",
    "    sleep(1)\n",
    "    game.update()"
   ]
  },
  {
   "cell_type": "markdown",
   "id": "e7278ec5",
   "metadata": {},
   "source": [
    "\n",
    "<h2 align=\"center\"> <font size=\"20pt\">GAME OF LIFE</font></h2>\n",
    "\n",
    "\n",
    "<br><br>\n",
    "<h4><font color=\"red\">PLEASE RUN THE NEXT CELL - FOR THE GAME OF LIFE</font></h4>\n",
    "\n"
   ]
  },
  {
   "cell_type": "code",
   "execution_count": 2,
   "id": "4873a6c3",
   "metadata": {
    "scrolled": true
   },
   "outputs": [],
   "source": [
    "class gameOfLife: \n",
    "    def __init__(self, N, scene): \n",
    "        \n",
    "        ## Used to determine neighbors ##\n",
    "        self._basis = {\n",
    "            \"top-left\" : vec(-1,1,0), \n",
    "            \"top\" : vec(0,1,0), \n",
    "            \"top-right\" : vec(1,1,0),\n",
    "            \"left\" : vec(-1,0,0), \n",
    "            \"right\" : vec(1,0,0), \n",
    "            \"bottom-left\" : vec(-1,-1,0),\n",
    "            \"bottom\" : vec(0,-1,0), \n",
    "            \"bottom-right\" : vec(1,-1,0)\n",
    "        }\n",
    "        \n",
    "        ## Loop limit ##\n",
    "        self.size = N\n",
    "        \n",
    "        ## Define VPYTHON cell size ##\n",
    "        self.cellSize = vec(0.9,0.9,0.1)\n",
    "        \n",
    "        ## Container to hold all cells ##\n",
    "        self.cells = []\n",
    "        \n",
    "        ## Create grid ##\n",
    "        for i in range(self.size):             \n",
    "            for j in range(self.size): \n",
    "                ## create visualisation ## \n",
    "                s = box(pos=vec(i,j,0), size=self.cellSize, color=color.white, state=False, nextState=False)\n",
    "                self.cells.append(s)\n",
    "        \n",
    "        ## Make a deep copy of the cells and shuffle them for the asynchronous aspect ##\n",
    "        self.cell_copy = copy.deepcopy(self.cells)\n",
    "        random.shuffle(self.cell_copy)\n",
    "        \n",
    "        ## Reads mouse clicks to choose initial state of cells ##\n",
    "        while True:\n",
    "            ev = scene.waitfor('mouseup mousedown')\n",
    "            if ev.event == 'mousedown':\n",
    "                loc = vec(round(ev.pos.x), round(ev.pos.y), 0)\n",
    "                if loc.x in range(0, self.size, 1) and loc.y in range(0, self.size, 1):\n",
    "                    cell = self.cells[int(loc.y) + int(loc.x)*self.size]\n",
    "                    cell.state = not cell.state ## Toggle cell state \n",
    "                    if cell.state == True: \n",
    "                        cell.color = color.green \n",
    "                    else: \n",
    "                        cell.color = color.white \n",
    "                else:\n",
    "                    break \n",
    "        \n",
    "    def updateAsync(self): \n",
    "        \n",
    "        extinction = True\n",
    "        \n",
    "        for c in self.cell_copy: \n",
    "            \n",
    "            ## Hold the number of living neighbors ## \n",
    "            living_neighbors = 0   \n",
    "            \n",
    "            ## Checking all the neighbors states ##\n",
    "            for key in self._basis:\n",
    "                nb = c.pos + self._basis[key]   \n",
    "                if self.cells[(int(nb.y)%self.size) + (int(nb.x)%self.size)*self.size].state == True: \n",
    "                    living_neighbors+=1 \n",
    "                    \n",
    "            cell = self.cells[int(c.pos.y) + int(c.pos.x)*self.size]\n",
    "            ## Update next state via rules ## \n",
    "            if living_neighbors >= 4 or living_neighbors<= 1: \n",
    "                cell.nextState = False \n",
    "            elif living_neighbors == 3: \n",
    "                cell.nextState = True \n",
    "            else: \n",
    "                cell.nextState = cell.state\n",
    "            \n",
    "            ## Update state \n",
    "            cell.state = cell.nextState \n",
    "            \n",
    "            ## Update visual \n",
    "            if cell.state == False: \n",
    "                cell.color = color.white\n",
    "            else: \n",
    "                extinction = False\n",
    "                cell.color = color.green\n",
    "        \n",
    "        return extinction\n",
    "\n",
    "        \n",
    "    def updateSync(self): \n",
    "        \n",
    "        extinction = True\n",
    "\n",
    "        ## Update the next state of all the cell ##\n",
    "        for cell in self.cells: \n",
    "            \n",
    "            ## Hold the number of living neighbors ## \n",
    "            living_neighbors = 0   \n",
    "            \n",
    "            ## Checking all the neighbors states ##\n",
    "            for key in self._basis:\n",
    "                nb = cell.pos + self._basis[key]   \n",
    "                if self.cells[(int(nb.y)%self.size) + (int(nb.x)%self.size)*self.size].state == True: \n",
    "                    living_neighbors+=1 \n",
    "                    \n",
    "            ## Update next state via rules ## \n",
    "            if living_neighbors >= 4 or living_neighbors<= 1: \n",
    "                cell.nextState = False \n",
    "            elif living_neighbors == 3: \n",
    "                cell.nextState = True \n",
    "            else: \n",
    "                cell.nextState = cell.state\n",
    "        \n",
    "        for cell in self.cells: \n",
    "            cell.state = cell.nextState \n",
    "            if cell.state == False: \n",
    "                cell.color = color.white\n",
    "            else: \n",
    "                extinction = False\n",
    "                cell.color = color.green\n",
    "         \n",
    "        return extinction"
   ]
  },
  {
   "cell_type": "markdown",
   "id": "d796bfb9",
   "metadata": {},
   "source": [
    "\n",
    "***\n",
    "\n",
    "<h2 align=\"center\"><font>Game of Life (synchronous)</font></h1>\n",
    "\n",
    "***\n",
    "<h3>\n",
    "    <font color='red'>PLEASE READ</font>\n",
    "</h2>\n",
    "<ol>\n",
    "    <li>Start by running the code-block below.</li>\n",
    "    <li>You will see a grid of cells, left-click any cells to toggle it's state (green = alive, white = dead).</li>\n",
    "    <li>When you're done choosing the initial states of the cells, left-click outside of the grid (in the black area) to start the game.</li>\n",
    "</ol>\n",
    "\n",
    "\n",
    "### The game will run untill all cells die or until the kernel is interupted! (still lifes need to be interupted by the kernel)\n"
   ]
  },
  {
   "cell_type": "code",
   "execution_count": null,
   "id": "ce8875fc",
   "metadata": {},
   "outputs": [
    {
     "data": {
      "text/html": [
       "<div id=\"glowscript\" class=\"glowscript\"></div>"
      ],
      "text/plain": [
       "<IPython.core.display.HTML object>"
      ]
     },
     "metadata": {},
     "output_type": "display_data"
    },
    {
     "data": {
      "application/javascript": [
       "if (typeof Jupyter !== \"undefined\") { window.__context = { glowscript_container: $(\"#glowscript\").removeAttr(\"id\")};}else{ element.textContent = ' ';}"
      ],
      "text/plain": [
       "<IPython.core.display.Javascript object>"
      ]
     },
     "metadata": {},
     "output_type": "display_data"
    }
   ],
   "source": [
    "## Game of Life ##\n",
    "size = 20\n",
    "scene = canvas(userspin = False, center=vector(floor((size-1)/2),floor((size-1)/2),0))                \n",
    "\n",
    "game = gameOfLife(size, scene)\n",
    "\n",
    "while not game.updateSync(): \n",
    "  sleep(0.5)"
   ]
  },
  {
   "cell_type": "markdown",
   "id": "c3639f7c",
   "metadata": {},
   "source": [
    "\n",
    "***\n",
    "\n",
    "<h2 align=\"center\"> Game of Life (Asynchronous)</h2>\n",
    "\n",
    "<h4 align=\"center\">\n",
    "    <font color=\"white\">\n",
    "                        Update scheme is CYCLIC ----> to implement this I used a deepcopy of all the cells in the grid and shuffled them with the random python import \n",
    "    </font>\n",
    "</h4>\n",
    "\n",
    "***\n",
    "\n",
    "\n",
    "<h3>\n",
    "    <font color='red'>PLEASE READ</font>\n",
    "</h3>\n",
    "<ol>\n",
    "    <li>Start by running the code-block below.</li>\n",
    "    <li>You will see a grid of cells, left-click any cells to toggle it's state (green = alive, white = dead).</li>\n",
    "    <li>When you're done choosing the initial states of the cells, left-click outside of the grid (in the black area) to start the game.</li>\n",
    "</ol>\n",
    "\n",
    "\n",
    "\n",
    "### The game will run untill all cells die or until the kernel is interupted! (still lifes need to be interupted by the kernel)\n"
   ]
  },
  {
   "cell_type": "code",
   "execution_count": null,
   "id": "421ea180",
   "metadata": {},
   "outputs": [
    {
     "data": {
      "text/html": [
       "<div id=\"glowscript\" class=\"glowscript\"></div>"
      ],
      "text/plain": [
       "<IPython.core.display.HTML object>"
      ]
     },
     "metadata": {},
     "output_type": "display_data"
    },
    {
     "data": {
      "application/javascript": [
       "if (typeof Jupyter !== \"undefined\") { window.__context = { glowscript_container: $(\"#glowscript\").removeAttr(\"id\")};}else{ element.textContent = ' ';}"
      ],
      "text/plain": [
       "<IPython.core.display.Javascript object>"
      ]
     },
     "metadata": {},
     "output_type": "display_data"
    }
   ],
   "source": [
    "## Game of Life ##\n",
    "size = 8\n",
    "scene = canvas(userspin = False, center=vector(floor((size-1)/2),floor((size-1)/2),0))                \n",
    "\n",
    "game = gameOfLife(size, scene)\n",
    "\n",
    "while not game.updateAsync(): \n",
    "  sleep(0.5)"
   ]
  },
  {
   "cell_type": "code",
   "execution_count": 91,
   "id": "5d331e08",
   "metadata": {},
   "outputs": [
    {
     "data": {
      "text/html": [
       "<style>.container { width:100% !important; }</style>"
      ],
      "text/plain": [
       "<IPython.core.display.HTML object>"
      ]
     },
     "metadata": {},
     "output_type": "display_data"
    }
   ],
   "source": [
    "### THIS CELL IS USED TO MAX THE JUPYTER NOTEBOOK CELL WIDTH ###\n",
    "### RUN IT ONCE PER SESSION \n",
    "from IPython.core.display import display, HTML\n",
    "display(HTML(\"<style>.container { width:100% !important; }</style>\"))\n"
   ]
  }
 ],
 "metadata": {
  "kernelspec": {
   "display_name": "Python 3 (ipykernel)",
   "language": "python",
   "name": "python3"
  },
  "language_info": {
   "codemirror_mode": {
    "name": "ipython",
    "version": 3
   },
   "file_extension": ".py",
   "mimetype": "text/x-python",
   "name": "python",
   "nbconvert_exporter": "python",
   "pygments_lexer": "ipython3",
   "version": "3.8.10"
  }
 },
 "nbformat": 4,
 "nbformat_minor": 5
}
