{
 "cells": [
  {
   "cell_type": "markdown",
   "id": "15aeb8ac",
   "metadata": {},
   "source": [
    "\n",
    "## IMPORTS\n"
   ]
  },
  {
   "cell_type": "code",
   "execution_count": 1,
   "id": "6979cd74",
   "metadata": {},
   "outputs": [
    {
     "data": {
      "text/html": [
       "<div id=\"glowscript\" class=\"glowscript\"></div>"
      ],
      "text/plain": [
       "<IPython.core.display.HTML object>"
      ]
     },
     "metadata": {},
     "output_type": "display_data"
    },
    {
     "data": {
      "application/javascript": [
       "if (typeof Jupyter !== \"undefined\") { window.__context = { glowscript_container: $(\"#glowscript\").removeAttr(\"id\")};}else{ element.textContent = ' ';}"
      ],
      "text/plain": [
       "<IPython.core.display.Javascript object>"
      ]
     },
     "metadata": {},
     "output_type": "display_data"
    }
   ],
   "source": [
    "from vpython import *"
   ]
  },
  {
   "cell_type": "markdown",
   "id": "c8f3d67f",
   "metadata": {},
   "source": [
    "\n",
    "## NET/MODULE/EVENT CLASS DEFINTIONS \n",
    "### All classes used in this project are defined in this block plus helper functions to run a clock signal \n"
   ]
  },
  {
   "cell_type": "code",
   "execution_count": 2,
   "id": "db819fdd",
   "metadata": {},
   "outputs": [],
   "source": [
    "#####################5000#########################################    \n",
    "                    ## HELPER FUCNTION ## \n",
    "def clock(val, obj): \n",
    "    if val == 0: \n",
    "        if obj.value == \"X\":\n",
    "            obj.value = \"0\"\n",
    "        elif obj.value == \"0\":\n",
    "            obj.value = \"1\"\n",
    "        elif obj.value == \"1\":\n",
    "            obj.value = \"0\"\n",
    "##############################################################    \n",
    "\n",
    "##############################################################    \n",
    "######################### \"NET\" CLASS ########################\n",
    "class net: \n",
    "    __signal_types = [\"0\", \"1\", \"X\"]\n",
    "    \n",
    "    def __init__(self, id, val=\"X\"): \n",
    "        self.driver = None\n",
    "        self.receivers = []\n",
    "        self.id = id\n",
    "        self.prev_value = val\n",
    "        self.value = val\n",
    "        self.data = []\n",
    "            \n",
    "    def update(self): \n",
    "        if self.value == \"X\": \n",
    "            self.data.append(0.5)\n",
    "        else: \n",
    "            self.data.append(int(self.value))\n",
    "##############################################################    \n",
    "##############################################################    \n",
    "     \n",
    "##############################################################    \n",
    "######################## \"GATE\" CLASS ########################\n",
    "class module: \n",
    "    __gate_types = [\"NAND\", \"NOR\", \"XOR\", \"OR\", \"AND\"]\n",
    "    __signal_types = [\"0\", \"1\", \"X\"]\n",
    "\n",
    "    def __init__(self, input, output, func, id, dt=1): \n",
    "        ## Time for delay ##\n",
    "        self.time = 0\n",
    "        self.dt = dt \n",
    "        \n",
    "        self.delay = 5 ## delay in nanoseconds \n",
    "        self.q = [] ## \"FIFO\" queue but as a list \n",
    "        \n",
    "        ## HOLD THE STATE OF THE MODULE ## \n",
    "        self.valid = True\n",
    "        \n",
    "        ## VALIDATE MODULE INPUTS/FUNCTION ## (not-important)\n",
    "        if not( func.upper() in module.__gate_types ): \n",
    "            print(\"Gate function not found.\")\n",
    "            self.valid = False\n",
    "        \n",
    "        if len(input) != 2:\n",
    "            print(\"Invalid input net size.\")\n",
    "            self.valid = False\n",
    "            \n",
    "        if not( input[0].value in module.__signal_types ) or not( input[1].value in module.__signal_types):\n",
    "            print(\"Invalid input type.\")\n",
    "            self.valid = False\n",
    "        \n",
    "        ## IMPORTANT ##\n",
    "        self.id = id\n",
    "        self.inputs = input ## must be an array with 2 net elements( 2 inputs ) \n",
    "        self.output = output ## net \n",
    "        self.func = func\n",
    "        self.event()\n",
    "\n",
    "        for net in self.inputs: \n",
    "            net.receivers.append(self)\n",
    "            \n",
    "    def event(self):        \n",
    "        e = {} ## OBJECT TO HOLD THE EVENT\n",
    "        \n",
    "        ## OUTPUT BASED ON FUNCTION ## \n",
    "        if self.inputs[0].value == \"X\" or self.inputs[1].value == \"X\":\n",
    "            e[\"output\"] = \"X\"\n",
    "        elif self.func == \"NAND\": \n",
    "            val = not(int(self.inputs[0].value) and int(self.inputs[1].value))\n",
    "            e[\"output\"] = str(int(val))\n",
    "        elif self.func == \"NOR\":\n",
    "            val = not(int(self.inputs[0].value) or int(self.inputs[1].value))\n",
    "            e[\"output\"] = str(int(val))\n",
    "        elif self.func == \"AND\": \n",
    "            val = (int(self.inputs[0].value) and int(self.inputs[1].value))\n",
    "            e[\"output\"] = str(int(val))\n",
    "        elif self.func == \"OR\":\n",
    "            val = (int(self.inputs[0].value) or int(self.inputs[1].value))\n",
    "            e[\"output\"] = str(int(val))\n",
    "        elif self.func == \"XOR\":\n",
    "            val = (int(self.inputs[0].value) ^ int(self.inputs[1].value))\n",
    "            e[\"output\"] = str(int(val))\n",
    "            \n",
    "        ## DELAY EVENT ## \n",
    "        e[\"trigger\"] = self.time + self.delay \n",
    "        self.q.append(e)\n",
    "    \n",
    "    def update(self):  \n",
    "        if len(self.q) != 0:     \n",
    "            ## CHECK IF THE DELAY TIME HAS BEEN REACHED ## \n",
    "            for i,obj in enumerate(self.q): \n",
    "                if self.time >= obj[\"trigger\"]:\n",
    "                    self.output.value = obj[\"output\"]\n",
    "                    self.q.pop(i) ## REMOVE THE EVENT IF IT HAPPENED ##\n",
    "                    \n",
    "        self.time += self.dt\n",
    "\n",
    "##############################################################\n",
    "##############################################################\n",
    "\n",
    "\n",
    "##############################################################    \n",
    "######################## \"EVENT\" CLASS #######################\n",
    "class event: \n",
    "    def __init__(self, nets, gates, dt=1): \n",
    "        self.nets = nets ## should be an array/list \n",
    "        self.gates = gates\n",
    "        self.time = 0\n",
    "        self.data = [] ## time step value s\n",
    "        self.dt = dt\n",
    "        \n",
    "    def listen(self):\n",
    "        for i in self.nets: \n",
    "            if i.value != i.prev_value: \n",
    "                ## que event\n",
    "                for j in i.receivers:\n",
    "                    j.event()\n",
    "            i.prev_value = i.value\n",
    "            i.update()\n",
    "\n",
    "        self.data.append(self.time)\n",
    "        self.time += self.dt \n",
    "        \n",
    "    def update(self):\n",
    "        for gate in self.gates: \n",
    "            gate.update()\n",
    "##############################################################\n",
    "##############################################################            "
   ]
  },
  {
   "cell_type": "code",
   "execution_count": 3,
   "id": "8d22759d",
   "metadata": {},
   "outputs": [],
   "source": [
    "class fullAdder: \n",
    "    def __init__(self, A, B, C_in): \n",
    "        ## INTERMEDIATE NETS ## \n",
    "        self.xor1_out = net( id='0')\n",
    "        self.and1_out = net( id='1')\n",
    "        self.and2_out = net( id='2')\n",
    "        \n",
    "        ## OUTPUT NETS ## \n",
    "        self.S = net( id='3')\n",
    "        self.C_out = net( id='4')\n",
    "        \n",
    "        ## SAVE NETS ##\n",
    "        self.nets=[self.xor1_out, self.and1_out, self.and2_out, self.S, self.C_out]\n",
    "        \n",
    "        self.xor1_gate = module( input=[A, B], \n",
    "                            output=self.xor1_out,\n",
    "                            func=\"XOR\",\n",
    "                            id='1' )\n",
    "        \n",
    "        self.xor2_gate = module( input=[C_in, self.xor1_out], \n",
    "                            output=self.S,\n",
    "                            func=\"XOR\",\n",
    "                            id='2' )\n",
    "        \n",
    "        self.and1_gate = module( input=[self.xor1_out, C_in], \n",
    "                             output=self.and1_out, \n",
    "                             func=\"AND\", \n",
    "                             id='3' ) \n",
    "        \n",
    "        self.and2_gate = module( input=[A, B],\n",
    "                             output=self.and2_out, \n",
    "                             func=\"AND\", \n",
    "                             id='4' )\n",
    "        \n",
    "        self.or_gate = module( input=[self.and1_out, self.and2_out],\n",
    "                          output=self.C_out, \n",
    "                          func=\"OR\",\n",
    "                          id='5' ) \n",
    "        \n",
    "        ## SAVE OR GATES ## \n",
    "        self.gates=[self.xor1_gate, self.xor2_gate, self.and1_gate, self.and2_gate, self.or_gate]"
   ]
  },
  {
   "cell_type": "code",
   "execution_count": 4,
   "id": "939b4507",
   "metadata": {},
   "outputs": [
    {
     "data": {
      "text/html": [
       "<div id=\"glowscript\" class=\"glowscript\"></div>"
      ],
      "text/plain": [
       "<IPython.core.display.HTML object>"
      ]
     },
     "metadata": {},
     "output_type": "display_data"
    },
    {
     "data": {
      "application/javascript": [
       "if (typeof Jupyter !== \"undefined\") { window.__context = { glowscript_container: $(\"#glowscript\").removeAttr(\"id\")};}else{ element.textContent = ' ';}"
      ],
      "text/plain": [
       "<IPython.core.display.Javascript object>"
      ]
     },
     "metadata": {},
     "output_type": "display_data"
    },
    {
     "data": {
      "application/javascript": [
       "if (typeof Jupyter !== \"undefined\") {require.undef(\"nbextensions/vpython_libraries/glow.min\");}else{element.textContent = ' ';}"
      ],
      "text/plain": [
       "<IPython.core.display.Javascript object>"
      ]
     },
     "metadata": {},
     "output_type": "display_data"
    },
    {
     "data": {
      "application/javascript": [
       "if (typeof Jupyter !== \"undefined\") {require.undef(\"nbextensions/vpython_libraries/glowcomm\");}else{element.textContent = ' ';}"
      ],
      "text/plain": [
       "<IPython.core.display.Javascript object>"
      ]
     },
     "metadata": {},
     "output_type": "display_data"
    },
    {
     "data": {
      "application/javascript": [
       "if (typeof Jupyter !== \"undefined\") {require.undef(\"nbextensions/vpython_libraries/jquery-ui.custom.min\");}else{element.textContent = ' ';}"
      ],
      "text/plain": [
       "<IPython.core.display.Javascript object>"
      ]
     },
     "metadata": {},
     "output_type": "display_data"
    },
    {
     "data": {
      "application/javascript": [
       "if (typeof Jupyter !== \"undefined\") {require([\"nbextensions/vpython_libraries/glow.min\"], function(){console.log(\"GLOW LOADED\");});}else{element.textContent = ' ';}"
      ],
      "text/plain": [
       "<IPython.core.display.Javascript object>"
      ]
     },
     "metadata": {},
     "output_type": "display_data"
    },
    {
     "data": {
      "application/javascript": [
       "if (typeof Jupyter !== \"undefined\") {require([\"nbextensions/vpython_libraries/glowcomm\"], function(){console.log(\"GLOWCOMM LOADED\");});}else{element.textContent = ' ';}"
      ],
      "text/plain": [
       "<IPython.core.display.Javascript object>"
      ]
     },
     "metadata": {},
     "output_type": "display_data"
    },
    {
     "data": {
      "application/javascript": [
       "if (typeof Jupyter !== \"undefined\") {require([\"nbextensions/vpython_libraries/jquery-ui.custom.min\"], function(){console.log(\"JQUERY LOADED\");});}else{element.textContent = ' ';}"
      ],
      "text/plain": [
       "<IPython.core.display.Javascript object>"
      ]
     },
     "metadata": {},
     "output_type": "display_data"
    }
   ],
   "source": [
    "scene = canvas()\n",
    "\n",
    "## 4 BIT ADDER ## \n",
    "A = [net( id=f\"a{i}\") for i in range(4)]\n",
    "B = [net( id=f\"b{i}\") for i in range(4)]\n",
    "C_in = net( id=\"c0\")\n",
    "f0=fullAdder(A[0], B[0], C_in)\n",
    "f1=fullAdder(A[1], B[1], f0.C_out)\n",
    "f2=fullAdder(A[2], B[2], f1.C_out)\n",
    "f3=fullAdder(A[3], B[3], f2.C_out) \n",
    "adders=[f0,f1,f2,f3]\n",
    " \n",
    "S = [ adders[i].S for i in range(len(adders)) ]\n",
    "sys=event( nets=A+B+[C_in]+[net for i in adders for net in i.nets],\n",
    "           gates=[gate for i in adders for gate in i.gates]) \n",
    "\n",
    "C_in.value = \"0\"\n",
    "\n",
    "a_str = \"1110\"\n",
    "b_str = \"0111\"\n",
    "for i in range(len(a_str)): \n",
    "    A[i].value = a_str[len(a_str)-i-1]\n",
    "for i in range(len(B)): \n",
    "    B[i].value = b_str[len(b_str)-i-1]\n",
    "\n",
    "\n",
    "while sys.time < 500: \n",
    "    sys.listen()\n",
    "    sys.update()\n",
    "\n",
    "pl1 = gcurve(color=color.red)\n",
    "pl2 = gcurve(color=color.cyan)\n",
    "\n",
    "for i in range(len(sys.data)):\n",
    "    pl1.plot(sys.data[i], S[0].data[i])\n",
    "    \n",
    "# print(\"S: \" + S[3].value \n",
    "#       + S[2].value \n",
    "#       + S[1].value \n",
    "#       + S[0].value )\n",
    "# print(\"C: \" + adders[3].C_out.value )"
   ]
  },
  {
   "cell_type": "code",
   "execution_count": 78,
   "id": "67753e39",
   "metadata": {},
   "outputs": [
    {
     "name": "stdout",
     "output_type": "stream",
     "text": [
      "1\n"
     ]
    }
   ],
   "source": []
  },
  {
   "cell_type": "markdown",
   "id": "23628a77",
   "metadata": {},
   "source": [
    "\n",
    "# Refrence\n"
   ]
  },
  {
   "cell_type": "code",
   "execution_count": 5,
   "id": "e769c2de",
   "metadata": {},
   "outputs": [
    {
     "data": {
      "text/html": [
       "<div id=\"glowscript\" class=\"glowscript\"></div>"
      ],
      "text/plain": [
       "<IPython.core.display.HTML object>"
      ]
     },
     "metadata": {},
     "output_type": "display_data"
    },
    {
     "data": {
      "application/javascript": [
       "if (typeof Jupyter !== \"undefined\") { window.__context = { glowscript_container: $(\"#glowscript\").removeAttr(\"id\")};}else{ element.textContent = ' ';}"
      ],
      "text/plain": [
       "<IPython.core.display.Javascript object>"
      ]
     },
     "metadata": {},
     "output_type": "display_data"
    }
   ],
   "source": [
    "scene = canvas()\n",
    "\n",
    "## NETS\n",
    "## DATA LINE AND CLOCK ## \n",
    "clk = net(val=\"0\", id='1')\n",
    "data = net(val=\"1\", id='2') \n",
    "not_data = net(val=\"0\", id='7')\n",
    "\n",
    "## INTERMEDIATE ##\n",
    "net3 = net(val=\"0\", id='3')\n",
    "net4 = net(val=\"0\", id='4')\n",
    "# print(len(S[i].data))\n",
    "# print(len(sys.data))\n",
    "## OUTPUTS ## \n",
    "Q = net(val=\"0\", id='5')\n",
    "Qnot = net(val=\"0\", id='6')\n",
    "\n",
    "\n",
    "## GATES \n",
    "not_gate = module( input=[data, data],\n",
    "                output=not_data, \n",
    "                func=\"NAND\", \n",
    "                id='5')\n",
    "\n",
    "gate1 = module( input=[data, clk],\n",
    "                  output=net3,\n",
    "                  func=\"NAND\",\n",
    "                  id='1')\n",
    "\n",
    "gate2 = module( input=[clk, not_data],\n",
    "                  output=net4,\n",
    "                  func=\"NAND\",\n",
    "                  id='2')\n",
    "\n",
    "gate3 = module( input=[net3, Qnot],\n",
    "                  output=Q,\n",
    "                  func=\"NAND\",\n",
    "                  id='3')\n",
    "\n",
    "gate4 = module( input=[Q, net4],\n",
    "                  output=Qnot,\n",
    "                  func=\"NAND\",\n",
    "                  id='4' )\n",
    "\n",
    "\n",
    "## CONSOLIDATING ALL GATES AND NETS ## \n",
    "gates = [not_gate, gate1, gate2, gate3, gate4]\n",
    "nets = [clk, data, not_data, net3, net4, Q, Qnot]\n",
    "sys = event(nets=nets, gates=gates)\n",
    "\n",
    "## RUN CIRCUIT FOR 400 TIME UNITS ## \n",
    "while sys.time <= 400: \n",
    "    sys.listen()\n",
    "    clock(sys.time%20, clk)\n",
    "    if sys.time == 200: \n",
    "        data.value = \"0\"\n",
    "    sys.update()\n",
    "    \n",
    "## GRAPHING ## \n",
    "## GRAPH INPUT CLK\n",
    "graph(ymin=-0.05, ymax=1.05)\n",
    "n1 = gcurve(color=color.blue, label=\"CLOCK (driver)\")\n",
    "for i in range(len(sys.data)):\n",
    "    n1.plot(sys.data[i], clk.data[i])\n",
    "\n",
    "## GRAPH INPUT DATA\n",
    "graph(ymin=-0.05, ymax=1.05)\n",
    "n2 = gcurve(color=color.black, label=\"DATA (driver)\")\n",
    "for i in range(len(sys.data)):\n",
    "    n2.plot(sys.data[i], data.data[i])\n",
    "    \n",
    "## GRAPH THE OUTPUT Q\n",
    "graph(ymin=-0.05, ymax=1.05)\n",
    "n5 = gcurve(color=color.red, label=\"Q (output)\")\n",
    "for i in range(len(sys.data)): \n",
    "    n5.plot(sys.data[i], Q.data[i])\n",
    "\n",
    "## GRAPH THE OUTPUT ~Q\n",
    "graph(ymin=-0.05, ymax=1.05)\n",
    "n6 = gcurve(color=color.red, label=\"~Q (output)\")\n",
    "for i in range(len(sys.data)): \n",
    "    n6.plot(sys.data[i], Qnot.data[i])\n",
    "    \n",
    "\n",
    "## GRAPH INTERMEDIATE ## \n",
    "graph(ymin=-0.05, ymax=1.05)\n",
    "n3 = gcurve(color=color.green, label=\"net3 (intermediate)\")\n",
    "for i in range(len(sys.data)): \n",
    "    n3.plot(sys.data[i], net3.data[i])\n",
    "\n",
    "graph(ymin=-0.05, ymax=1.05)\n",
    "n4 = gcurve(color=color.green, label=\"net4 (intermediate)\")\n",
    "for i in range(len(sys.data)): \n",
    "    n4.plot(sys.data[i], net4.data[i])\n"
   ]
  }
 ],
 "metadata": {
  "kernelspec": {
   "display_name": "Python 3 (ipykernel)",
   "language": "python",
   "name": "python3"
  },
  "language_info": {
   "codemirror_mode": {
    "name": "ipython",
    "version": 3
   },
   "file_extension": ".py",
   "mimetype": "text/x-python",
   "name": "python",
   "nbconvert_exporter": "python",
   "pygments_lexer": "ipython3",
   "version": "3.9.7"
  }
 },
 "nbformat": 4,
 "nbformat_minor": 5
}
