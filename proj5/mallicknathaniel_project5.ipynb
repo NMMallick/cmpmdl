{
 "cells": [
  {
   "cell_type": "markdown",
   "id": "0dbd4635",
   "metadata": {},
   "source": [
    "# Nathaniel Mallick\n",
    "## Project 5 \n",
    "## Discrete Network Events\n",
    "\n",
    "### Project partners - Justin Cacal "
   ]
  },
  {
   "cell_type": "markdown",
   "id": "15aeb8ac",
   "metadata": {},
   "source": [
    "\n",
    "## IMPORTS\n"
   ]
  },
  {
   "cell_type": "code",
   "execution_count": 1,
   "id": "6979cd74",
   "metadata": {},
   "outputs": [
    {
     "data": {
      "text/html": [
       "<div id=\"glowscript\" class=\"glowscript\"></div>"
      ],
      "text/plain": [
       "<IPython.core.display.HTML object>"
      ]
     },
     "metadata": {},
     "output_type": "display_data"
    },
    {
     "data": {
      "application/javascript": [
       "if (typeof Jupyter !== \"undefined\") { window.__context = { glowscript_container: $(\"#glowscript\").removeAttr(\"id\")};}else{ element.textContent = ' ';}"
      ],
      "text/plain": [
       "<IPython.core.display.Javascript object>"
      ]
     },
     "metadata": {},
     "output_type": "display_data"
    }
   ],
   "source": [
    "from vpython import *\n",
    "from queue import PriorityQueue"
   ]
  },
  {
   "cell_type": "markdown",
   "id": "c8f3d67f",
   "metadata": {},
   "source": [
    "\n",
    "## NET/MODULE/EVENT CLASS DEFINTIONS \n",
    "### All classes used in this project are defined in this block plus helper functions to run a clock signal \n"
   ]
  },
  {
   "cell_type": "code",
   "execution_count": 2,
   "id": "db819fdd",
   "metadata": {},
   "outputs": [],
   "source": [
    "##############################################################    \n",
    "                    ## HELPER FUCNTION ## \n",
    "def clock(val, obj): \n",
    "    if val == 0: \n",
    "        if obj.value == \"X\":\n",
    "            obj.value = \"0\"\n",
    "        elif obj.value == \"0\":\n",
    "            obj.value = \"1\"\n",
    "        elif obj.value == \"1\":\n",
    "            obj.value = \"0\"\n",
    "##############################################################    \n",
    "\n",
    "##############################################################    \n",
    "######################### \"NET\" CLASS ########################\n",
    "class net: \n",
    "    __signal_types = [\"0\", \"1\", \"X\"]\n",
    "    \n",
    "    def __init__(self, id, val=\"X\"): \n",
    "        self.driver = None\n",
    "        self.receivers = []\n",
    "        self.id = id\n",
    "        self.prev_value = val\n",
    "        self.value = val\n",
    "        self.data = []\n",
    "            \n",
    "    def update(self): \n",
    "        if self.value == \"X\": \n",
    "            self.data.append(0.5)\n",
    "        else: \n",
    "            self.data.append(int(self.value))\n",
    "##############################################################    \n",
    "##############################################################    \n",
    "     \n",
    "##############################################################    \n",
    "######################## \"GATE\" CLASS ########################\n",
    "class module: \n",
    "    __gate_types = [\"NAND\", \"NOR\"]\n",
    "    __signal_types = [\"0\", \"1\", \"X\"]\n",
    "\n",
    "    def __init__(self, input, output, func, id, dt=1): \n",
    "        ## Time for delay ##\n",
    "        self.time = 0\n",
    "        self.dt = dt \n",
    "        \n",
    "        self.delay = 5 ## delay in nanoseconds \n",
    "        self.q = [] ## \"FIFO\" queue but as a list \n",
    "        \n",
    "        ## HOLD THE STATE OF THE MODULE ## \n",
    "        self.valid = True\n",
    "        \n",
    "        ## VALIDATE MODULE INPUTS/FUNCTION ## (not-important)\n",
    "        if not( func.upper() in module.__gate_types ): \n",
    "            print(\"Gate function not found.\")\n",
    "            self.valid = False\n",
    "        \n",
    "        if len(input) != 2:\n",
    "            print(\"Invalid input net size.\")\n",
    "            self.valid = False\n",
    "            \n",
    "        if not( input[0].value in module.__signal_types ) or not( input[1].value in module.__signal_types):\n",
    "            print(\"Invalid input type.\")\n",
    "            self.valid = False\n",
    "        \n",
    "        ## IMPORTANT ##\n",
    "        self.id = id\n",
    "        self.inputs = input ## must be an array with 2 net elements( 2 inputs ) \n",
    "        self.output = output ## net \n",
    "        self.func = func\n",
    "        self.event()\n",
    "\n",
    "    def event(self):        \n",
    "        e = {} ## OBJECT TO HOLD THE EVENT\n",
    "        \n",
    "        ## OUTPUT BASED ON FUNCTION ## \n",
    "        if self.inputs[0].value == \"X\" or self.inputs[1].value == \"X\":\n",
    "            e[\"output\"] = \"X\"\n",
    "        elif self.func == \"NAND\": \n",
    "            val = not(int(self.inputs[0].value) and int(self.inputs[1].value))\n",
    "            e[\"output\"] = str(int(val))\n",
    "        elif self.func == \"NOR\":\n",
    "            val = not(int(self.inputs[0].value) or int(self.inputs[1].value))\n",
    "            e[\"output\"] = str(int(val))\n",
    "        \n",
    "        ## DELAY EVENT ## \n",
    "        e[\"trigger\"] = self.time + self.delay \n",
    "        self.q.append(e)\n",
    "    \n",
    "    def update(self):  \n",
    "        if len(self.q) != 0:     \n",
    "            ## CHECK IF THE DELAY TIME HAS BEEN REACHED ## \n",
    "            for i,obj in enumerate(self.q): \n",
    "                if self.time >= obj[\"trigger\"]:\n",
    "                    self.output.value = obj[\"output\"]\n",
    "                    self.q.pop(i) ## REMOVE THE EVENT IF IT HAPPENED ##\n",
    "                    \n",
    "        self.time += self.dt\n",
    "\n",
    "##############################################################\n",
    "##############################################################\n",
    "\n",
    "\n",
    "##############################################################    \n",
    "######################## \"EVENT\" CLASS #######################\n",
    "class event: \n",
    "    def __init__(self, nets, dt=1): \n",
    "        self.nets = nets ## should be an array/list \n",
    "        self.time = 0\n",
    "        self.data = [] ## time step value s\n",
    "        self.dt = dt\n",
    "        \n",
    "    def listen(self):\n",
    "        for i in self.nets: \n",
    "            if i.value != i.prev_value: \n",
    "                ## que event\n",
    "                for j in i.receivers:\n",
    "                    j.event()\n",
    "            i.prev_value = i.value\n",
    "            i.update()\n",
    "            \n",
    "        self.data.append(self.time)\n",
    "        self.time += self.dt \n",
    "##############################################################\n",
    "##############################################################            "
   ]
  },
  {
   "cell_type": "markdown",
   "id": "5473bcb3",
   "metadata": {},
   "source": [
    "\n",
    "# TESTING EACH CLASS\n",
    "## Gates are tested by forcing all combination of inputs. The net class has a constructor that initiates the value of the drivers. \n"
   ]
  },
  {
   "cell_type": "markdown",
   "id": "72118250",
   "metadata": {},
   "source": [
    "\n",
    "## NAND TESTS\n"
   ]
  },
  {
   "cell_type": "code",
   "execution_count": 6,
   "id": "9c322e86",
   "metadata": {},
   "outputs": [
    {
     "data": {
      "text/html": [
       "<div id=\"glowscript\" class=\"glowscript\"></div>"
      ],
      "text/plain": [
       "<IPython.core.display.HTML object>"
      ]
     },
     "metadata": {},
     "output_type": "display_data"
    },
    {
     "data": {
      "application/javascript": [
       "if (typeof Jupyter !== \"undefined\") { window.__context = { glowscript_container: $(\"#glowscript\").removeAttr(\"id\")};}else{ element.textContent = ' ';}"
      ],
      "text/plain": [
       "<IPython.core.display.Javascript object>"
      ]
     },
     "metadata": {},
     "output_type": "display_data"
    }
   ],
   "source": [
    "scene = canvas()\n",
    "## TIME ARRAY FOR PLOTTING ##\n",
    "t_arr = []\n",
    "\n",
    "## NETS AND MODULES ## \n",
    "## DEFAULT VALUE FOR NETS IS \"X\"\n",
    "net1 = net(val=\"1\", id='1') ## driver\n",
    "net2 = net(val=\"1\", id='2') ## driver\n",
    "net3 = net(id='3') ## reciever \n",
    "\n",
    "nand_gate = module( input=[net1, net2],\n",
    "                    output=net3,\n",
    "                    func=\"NAND\",\n",
    "                    id='1'\n",
    "                    )\n",
    "\n",
    "## UPDATE THE MODULES ## \n",
    "## DELAY = 5NS \n",
    "## X (undefined) = 0.5 \n",
    "## A CHANGE SHOULD HAPPEN AFTER THE 5 TIME CYCLE \n",
    "for i in range(10):\n",
    "    nand_gate.update()\n",
    "    net1.update()\n",
    "    net2.update()\n",
    "    net3.update()\n",
    "    t_arr.append(nand_gate.time)\n",
    "\n",
    "    \n",
    "## GRAPH INPUT NET 1\n",
    "graph(ymin=-0.5, ymax=1.5)\n",
    "n1 = gcurve(color=color.blue, label=\"NET 1 (driver)\")\n",
    "for i in range(len(t_arr)):\n",
    "    n1.plot(t_arr[i], net1.data[i])\n",
    "\n",
    "## GRAPH INPUT NET 2\n",
    "graph(ymin=-0.5, ymax=1.5)\n",
    "n2 = gcurve(color=color.black, label=\"NET 2 (driver)\")\n",
    "for i in range(len(t_arr)):\n",
    "    n2.plot(t_arr[i], net2.data[i])\n",
    "    \n",
    "## GRAPH THE OUTPUT NET\n",
    "graph(ymin=-0.5, ymax=1.5)\n",
    "out = gcurve(color=color.red, label=\"NET 3 (reciver)\")\n",
    "for i in range(len(t_arr)): \n",
    "    out.plot(t_arr[i], net3.data[i])\n"
   ]
  },
  {
   "cell_type": "markdown",
   "id": "e0a0b827",
   "metadata": {},
   "source": [
    "\n",
    "## NOR TESTS\n"
   ]
  },
  {
   "cell_type": "code",
   "execution_count": 7,
   "id": "db0f4bed",
   "metadata": {},
   "outputs": [
    {
     "data": {
      "text/html": [
       "<div id=\"glowscript\" class=\"glowscript\"></div>"
      ],
      "text/plain": [
       "<IPython.core.display.HTML object>"
      ]
     },
     "metadata": {},
     "output_type": "display_data"
    },
    {
     "data": {
      "application/javascript": [
       "if (typeof Jupyter !== \"undefined\") { window.__context = { glowscript_container: $(\"#glowscript\").removeAttr(\"id\")};}else{ element.textContent = ' ';}"
      ],
      "text/plain": [
       "<IPython.core.display.Javascript object>"
      ]
     },
     "metadata": {},
     "output_type": "display_data"
    }
   ],
   "source": [
    "canvas()\n",
    "## TIME ARRAY FOR PLOTTING ##\n",
    "t_arr = []\n",
    "\n",
    "## NETS AND MODULES ## \n",
    "## DEFAULT VALUE FOR NETS IS \"X\"\n",
    "net1 = net(val=\"0\", id='1') ## driver\n",
    "net2 = net(val=\"0\", id='2') ## driver\n",
    "net3 = net(id='3') ## reciever \n",
    "\n",
    "nor_gate = module( input=[net1, net2],\n",
    "                    output=net3,\n",
    "                    func=\"NOR\",\n",
    "                    id='1'\n",
    "                    )\n",
    "\n",
    "## UPDATE THE MODULES ## \n",
    "## DELAY = 5NS \n",
    "## X (undefined) = 0.5 \n",
    "## A CHANGE SHOULD HAPPEN AFTER THE 5 TIME CYCLE \n",
    "for i in range(10):\n",
    "    nor_gate.update()\n",
    "    net1.update()\n",
    "    net2.update()\n",
    "    net3.update()\n",
    "    t_arr.append(nor_gate.time)\n",
    "\n",
    "    \n",
    "## GRAPH INPUT NET 1\n",
    "graph(ymin=-0.5, ymax=1.5)\n",
    "n1 = gcurve(color=color.black, label=\"NET 1 (driver)\")\n",
    "for i in range(len(t_arr)):\n",
    "    n1.plot(t_arr[i], net1.data[i])\n",
    "\n",
    "## GRAPH INPUT NET 2\n",
    "graph(ymin=-0.5, ymax=1.5)\n",
    "n2 = gcurve(color=color.blue, label=\"NET 2 (driver)\")\n",
    "for i in range(len(t_arr)):\n",
    "    n2.plot(t_arr[i], net2.data[i])\n",
    "    \n",
    "## GRAPH THE OUTPUT NET\n",
    "graph(ymin=-0.5, ymax=1.5)\n",
    "out = gcurve(color=color.red, label=\"NET 3 (reciver)\")\n",
    "for i in range(len(t_arr)): \n",
    "    out.plot(t_arr[i], net3.data[i])"
   ]
  },
  {
   "cell_type": "markdown",
   "id": "4d8bc767",
   "metadata": {},
   "source": [
    "\n",
    "## EVENT TESTING\n"
   ]
  },
  {
   "cell_type": "code",
   "execution_count": 9,
   "id": "c998cd7a",
   "metadata": {},
   "outputs": [
    {
     "data": {
      "text/html": [
       "<div id=\"glowscript\" class=\"glowscript\"></div>"
      ],
      "text/plain": [
       "<IPython.core.display.HTML object>"
      ]
     },
     "metadata": {},
     "output_type": "display_data"
    },
    {
     "data": {
      "application/javascript": [
       "if (typeof Jupyter !== \"undefined\") { window.__context = { glowscript_container: $(\"#glowscript\").removeAttr(\"id\")};}else{ element.textContent = ' ';}"
      ],
      "text/plain": [
       "<IPython.core.display.Javascript object>"
      ]
     },
     "metadata": {},
     "output_type": "display_data"
    }
   ],
   "source": [
    "scene = canvas() \n",
    "\n",
    "## drivers \n",
    "net1 = net(id='1') ## use this as a \"clock\"\n",
    "net2 = net(id='2')\n",
    "\n",
    "# receiver \n",
    "net3 = net(id='3')\n",
    "\n",
    "gate = module(input=[net1, net1],\n",
    "             output=net3,\n",
    "             func=\"NAND\", ## CHANGE TO NAND OR NOR FOR DIFFERENT FUNCTION \n",
    "             id='1')\n",
    "\n",
    "net1.receivers.append(gate)\n",
    "net2.receivers.append(gate)\n",
    "\n",
    "net3.driver = gate\n",
    "sys = event(nets=[net1, net2, net3])\n",
    "\n",
    "## set the drivers\n",
    "while sys.time <= 200:\n",
    "    clock(sys.time%10, net1)\n",
    "    clock(sys.time%20, net2)    \n",
    "    sys.listen()\n",
    "    gate.update()\n",
    "    \n",
    "# print(len(net1.data))\n",
    "## GRAPH INPUT NET 1\n",
    "graph(ymin=-0.05, ymax=1.05)\n",
    "n1 = gcurve(color=color.blue, label=\"NET 1 (driver)\")\n",
    "for i in range(len(sys.data)):\n",
    "    n1.plot(sys.data[i], net1.data[i])\n",
    "\n",
    "## GRAPH INPUT NET 2\n",
    "graph(ymin=-0.05, ymax=1.05)\n",
    "n2 = gcurve(color=color.black, label=\"NET 2 (driver)\")\n",
    "for i in range(len(sys.data)):\n",
    "    n2.plot(sys.data[i], net2.data[i])\n",
    "    \n",
    "## GRAPH THE OUTPUT NET\n",
    "graph(ymin=-0.05, ymax=1.05)\n",
    "out = gcurve(color=color.red, label=\"NET 3 (reciver)\")\n",
    "for i in range(len(sys.data)): \n",
    "    out.plot(sys.data[i], net3.data[i])"
   ]
  },
  {
   "cell_type": "markdown",
   "id": "9fadd049",
   "metadata": {},
   "source": [
    "# TEST CIRCUIT "
   ]
  },
  {
   "cell_type": "code",
   "execution_count": 4,
   "id": "ace01f23",
   "metadata": {},
   "outputs": [
    {
     "data": {
      "text/html": [
       "<div id=\"glowscript\" class=\"glowscript\"></div>"
      ],
      "text/plain": [
       "<IPython.core.display.HTML object>"
      ]
     },
     "metadata": {},
     "output_type": "display_data"
    },
    {
     "data": {
      "application/javascript": [
       "if (typeof Jupyter !== \"undefined\") { window.__context = { glowscript_container: $(\"#glowscript\").removeAttr(\"id\")};}else{ element.textContent = ' ';}"
      ],
      "text/plain": [
       "<IPython.core.display.Javascript object>"
      ]
     },
     "metadata": {},
     "output_type": "display_data"
    }
   ],
   "source": [
    "scene = canvas() \n",
    "\n",
    "## NETS ##\n",
    "net1 = net(id='1')\n",
    "net2 = net(id='2')\n",
    "net3 = net(id='3')\n",
    "net4 = net(id='4')\n",
    "net5 = net(id='5')\n",
    "net6 = net(id='6') ## OUTPUT \n",
    "\n",
    "## GATES ##\n",
    "gate1 = module(input=[net1, net2],\n",
    "             output=net4,\n",
    "             func=\"NAND\", ## CHANGE TO NAND OR NOR FOR DIFFERENT FUNCTION \n",
    "             id='1')\n",
    "gate2 = module(input=[net3, net3], ## not\n",
    "             output=net5,\n",
    "             func=\"NAND\", ## CHANGE TO NAND OR NOR FOR DIFFERENT FUNCTION \n",
    "             id='2')\n",
    "gate3 = module(input=[net4, net5],\n",
    "             output=net6,\n",
    "             func=\"NAND\", ## CHANGE TO NAND OR NOR FOR DIFFERENT FUNCTION \n",
    "             id='3')\n",
    "\n",
    "## BUILDING THE CIRCUIT ## \n",
    "net1.receivers.append(gate1)\n",
    "net2.receivers.append(gate1)\n",
    "net3.receivers.append(gate2) ## twice? \n",
    "net4.receivers.append(gate3)\n",
    "net5.receivers.append(gate3)\n",
    "\n",
    "nets = [net1, net2, net3, net4, net5, net6]\n",
    "sys = event(nets=nets)\n",
    "\n",
    "## MANUALLY SET SOME VALUES ## \n",
    "net2.value = '1'\n",
    "net3.value = '0'\n",
    "\n",
    "## RUN THE CIRCUIT ## \n",
    "while sys.time <= 100:\n",
    "    sys.listen()\n",
    "    clock(sys.time%10, net1) ## drives a clock \n",
    "    clock(sys.time%20, net2)    \n",
    "    gate1.update()\n",
    "    gate2.update()\n",
    "    gate3.update()\n",
    "    \n",
    "    \n",
    "## GRAPH INPUT NET 1\n",
    "graph(ymin=-0.05, ymax=1.05)\n",
    "n1 = gcurve(color=color.blue, label=\"NET 1 (driver)\")\n",
    "for i in range(len(sys.data)):\n",
    "    n1.plot(sys.data[i], net1.data[i])\n",
    "\n",
    "## GRAPH INPUT NET 2\n",
    "graph(ymin=-0.05, ymax=1.05)\n",
    "n2 = gcurve(color=color.black, label=\"NET 2 (driver)\")\n",
    "for i in range(len(sys.data)):\n",
    "    n2.plot(sys.data[i], net2.data[i])\n",
    "    \n",
    "## GRAPH THE INPUT NET3\n",
    "graph(ymin=-0.05, ymax=1.05)\n",
    "n3 = gcurve(color=color.red, label=\"NET 3 (driver)\")\n",
    "for i in range(len(sys.data)): \n",
    "    n3.plot(sys.data[i], net3.data[i])\n",
    "    \n",
    "## GRAPH INPUT NET 4\n",
    "graph(ymin=-0.05, ymax=1.05)\n",
    "n4 = gcurve(color=color.blue, label=\"NET 4 (intermediate)\")\n",
    "for i in range(len(sys.data)):\n",
    "    n4.plot(sys.data[i], net4.data[i])\n",
    "\n",
    "## GRAPH INPUT NET 5\n",
    "graph(ymin=-0.05, ymax=1.05)\n",
    "n5 = gcurve(color=color.black, label=\"NET 5 (intermediate)\")\n",
    "for i in range(len(sys.data)):\n",
    "    n5.plot(sys.data[i], net5.data[i])\n",
    "    \n",
    "## GRAPH THE OUTPUT NET 6\n",
    "graph(ymin=-0.05, ymax=1.05)\n",
    "out = gcurve(color=color.red, label=\"NET 6 (output)\")\n",
    "for i in range(len(sys.data)): \n",
    "    out.plot(sys.data[i], net6.data[i])"
   ]
  },
  {
   "cell_type": "markdown",
   "id": "826df423",
   "metadata": {},
   "source": [
    "# D-LATCH "
   ]
  },
  {
   "cell_type": "code",
   "execution_count": 6,
   "id": "de0f6324",
   "metadata": {},
   "outputs": [
    {
     "data": {
      "text/html": [
       "<div id=\"glowscript\" class=\"glowscript\"></div>"
      ],
      "text/plain": [
       "<IPython.core.display.HTML object>"
      ]
     },
     "metadata": {},
     "output_type": "display_data"
    },
    {
     "data": {
      "application/javascript": [
       "if (typeof Jupyter !== \"undefined\") { window.__context = { glowscript_container: $(\"#glowscript\").removeAttr(\"id\")};}else{ element.textContent = ' ';}"
      ],
      "text/plain": [
       "<IPython.core.display.Javascript object>"
      ]
     },
     "metadata": {},
     "output_type": "display_data"
    }
   ],
   "source": [
    "scene = canvas()\n",
    "\n",
    "## NETS\n",
    "## DATA LINE AND CLOCK ## \n",
    "clk = net(val=\"0\", id='1')\n",
    "data = net(val=\"0\", id='2') \n",
    "not_data = net(val=\"0\", id='7')\n",
    "\n",
    "## INTERMEDIATE ##\n",
    "net3 = net(val=\"0\", id='3')\n",
    "net4 = net(val=\"0\", id='4')\n",
    "\n",
    "## OUTPUTS ## \n",
    "Q = net(val=\"0\", id='5')\n",
    "Qnot = net(val=\"0\", id='6')\n",
    "\n",
    "\n",
    "## GATES \n",
    "not_gate = module( input=[data, data],\n",
    "                output=not_data, \n",
    "                func=\"NAND\", \n",
    "                id='5')\n",
    "\n",
    "gate1 = module( input=[data, clk],\n",
    "                  output=net3,\n",
    "                  func=\"NAND\",\n",
    "                  id='1')\n",
    "\n",
    "gate2 = module( input=[clk, not_data],\n",
    "                  output=net4,\n",
    "                  func=\"NAND\",\n",
    "                  id='2')\n",
    "\n",
    "gate3 = module( input=[net3, Qnot],\n",
    "                  output=Q,\n",
    "                  func=\"NAND\",\n",
    "                  id='3')\n",
    "\n",
    "gate4 = module( input=[Q, net4],\n",
    "                  output=Qnot,\n",
    "                  func=\"NAND\",\n",
    "                  id='4')\n",
    "\n",
    "## SETUP RECIEVERS ## \n",
    "not_data.receivers = [gate2]\n",
    "data.receivers = [gate1, not_gate]\n",
    "clk.receivers = [gate1, gate2]\n",
    "net3.receivers = [gate3]\n",
    "net4.receivers = [gate4]\n",
    "Q.receivers = [gate4]\n",
    "Qnot.receivers = [gate3]\n",
    "\n",
    "## CONSOLIDATING ALL GATES AND NETS ## \n",
    "gates = [not_gate, gate1, gate2, gate3, gate4]\n",
    "nets = [clk, data, not_data, net3, net4, Q, Qnot]\n",
    "sys = event(nets=nets)\n",
    "\n",
    "## RUN CIRCUIT FOR 400 TIME UNITS ## \n",
    "while sys.time <= 400: \n",
    "    sys.listen()\n",
    "    clock(sys.time%20, clk)\n",
    "    if sys.time == 200: \n",
    "        data.value = \"1\"\n",
    "    for gate in gates:\n",
    "        gate.update()\n",
    "    \n",
    "## GRAPHING ## \n",
    "## GRAPH INPUT CLK\n",
    "graph(ymin=-0.05, ymax=1.05)\n",
    "n1 = gcurve(color=color.blue, label=\"CLOCK (driver)\")\n",
    "for i in range(len(sys.data)):\n",
    "    n1.plot(sys.data[i], clk.data[i])\n",
    "\n",
    "## GRAPH INPUT DATA\n",
    "graph(ymin=-0.05, ymax=1.05)\n",
    "n2 = gcurve(color=color.black, label=\"DATA (driver)\")\n",
    "for i in range(len(sys.data)):\n",
    "    n2.plot(sys.data[i], data.data[i])\n",
    "    \n",
    "## GRAPH THE OUTPUT Q\n",
    "graph(ymin=-0.05, ymax=1.05)\n",
    "n5 = gcurve(color=color.red, label=\"Q (output)\")\n",
    "for i in range(len(sys.data)): \n",
    "    n5.plot(sys.data[i], Q.data[i])\n",
    "\n",
    "## GRAPH THE OUTPUT ~Q\n",
    "graph(ymin=-0.05, ymax=1.05)\n",
    "n6 = gcurve(color=color.red, label=\"~Q (output)\")\n",
    "for i in range(len(sys.data)): \n",
    "    n6.plot(sys.data[i], Qnot.data[i])\n",
    "    \n",
    "\n",
    "## GRAPH INTERMEDIATE ## \n",
    "graph(ymin=-0.05, ymax=1.05)\n",
    "n3 = gcurve(color=color.green, label=\"net3 (intermediate)\")\n",
    "for i in range(len(sys.data)): \n",
    "    n3.plot(sys.data[i], net3.data[i])\n",
    "\n",
    "graph(ymin=-0.05, ymax=1.05)\n",
    "n4 = gcurve(color=color.green, label=\"net4 (intermediate)\")\n",
    "for i in range(len(sys.data)): \n",
    "    n4.plot(sys.data[i], net4.data[i])\n"
   ]
  },
  {
   "cell_type": "markdown",
   "id": "99dd7023",
   "metadata": {},
   "source": [
    "### For the D-LATCH simulation - I took advantage of the \"pass-by-reference\" aspect of python to signal events into each gate. The random preamble at the start of the \"Q\" and \"~Q\" graph is from the initial states of all the nets (active low). The delay is observable from both the \"data\" graph and the \"Q\" graph as data goes from low to high . "
   ]
  }
 ],
 "metadata": {
  "kernelspec": {
   "display_name": "Python 3 (ipykernel)",
   "language": "python",
   "name": "python3"
  },
  "language_info": {
   "codemirror_mode": {
    "name": "ipython",
    "version": 3
   },
   "file_extension": ".py",
   "mimetype": "text/x-python",
   "name": "python",
   "nbconvert_exporter": "python",
   "pygments_lexer": "ipython3",
   "version": "3.9.7"
  }
 },
 "nbformat": 4,
 "nbformat_minor": 5
}
