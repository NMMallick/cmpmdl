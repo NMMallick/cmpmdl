{
 "cells": [
  {
   "cell_type": "markdown",
   "id": "9d30627c",
   "metadata": {},
   "source": [
    "##################################################################################################################"
   ]
  },
  {
   "cell_type": "markdown",
   "id": "0da65384",
   "metadata": {},
   "source": [
    "# Nathaniel Mallick - Project 0\n",
    "## ECE - 1180"
   ]
  },
  {
   "cell_type": "markdown",
   "id": "fc8636ce",
   "metadata": {},
   "source": [
    "##################################################################################################################"
   ]
  },
  {
   "cell_type": "markdown",
   "id": "7bef8ef3",
   "metadata": {},
   "source": [
    "## Simulation Visual Window"
   ]
  },
  {
   "cell_type": "code",
   "execution_count": 1,
   "id": "1e20a7c3",
   "metadata": {},
   "outputs": [
    {
     "data": {
      "text/html": [
       "<div id=\"glowscript\" class=\"glowscript\"></div>"
      ],
      "text/plain": [
       "<IPython.core.display.HTML object>"
      ]
     },
     "metadata": {},
     "output_type": "display_data"
    },
    {
     "data": {
      "application/javascript": [
       "if (typeof Jupyter !== \"undefined\") { window.__context = { glowscript_container: $(\"#glowscript\").removeAttr(\"id\")};}else{ element.textContent = ' ';}"
      ],
      "text/plain": [
       "<IPython.core.display.Javascript object>"
      ]
     },
     "metadata": {},
     "output_type": "display_data"
    },
    {
     "data": {
      "text/html": [
       "<div id=\"glowscript\" class=\"glowscript\"></div>"
      ],
      "text/plain": [
       "<IPython.core.display.HTML object>"
      ]
     },
     "metadata": {},
     "output_type": "display_data"
    },
    {
     "data": {
      "application/javascript": [
       "if (typeof Jupyter !== \"undefined\") { window.__context = { glowscript_container: $(\"#glowscript\").removeAttr(\"id\")};}else{ element.textContent = ' ';}"
      ],
      "text/plain": [
       "<IPython.core.display.Javascript object>"
      ]
     },
     "metadata": {},
     "output_type": "display_data"
    }
   ],
   "source": [
    "from vpython import * \n",
    "scene = canvas()"
   ]
  },
  {
   "cell_type": "markdown",
   "id": "e446d722",
   "metadata": {},
   "source": [
    "# Initialization of objects (ball, walls, vector arrow) and timing variables"
   ]
  },
  {
   "cell_type": "code",
   "execution_count": 2,
   "id": "3935cf05",
   "metadata": {},
   "outputs": [
    {
     "data": {
      "application/javascript": [
       "if (typeof Jupyter !== \"undefined\") {require.undef(\"nbextensions/vpython_libraries/glow.min\");}else{element.textContent = ' ';}"
      ],
      "text/plain": [
       "<IPython.core.display.Javascript object>"
      ]
     },
     "metadata": {},
     "output_type": "display_data"
    },
    {
     "data": {
      "application/javascript": [
       "if (typeof Jupyter !== \"undefined\") {require.undef(\"nbextensions/vpython_libraries/glowcomm\");}else{element.textContent = ' ';}"
      ],
      "text/plain": [
       "<IPython.core.display.Javascript object>"
      ]
     },
     "metadata": {},
     "output_type": "display_data"
    },
    {
     "data": {
      "application/javascript": [
       "if (typeof Jupyter !== \"undefined\") {require.undef(\"nbextensions/vpython_libraries/jquery-ui.custom.min\");}else{element.textContent = ' ';}"
      ],
      "text/plain": [
       "<IPython.core.display.Javascript object>"
      ]
     },
     "metadata": {},
     "output_type": "display_data"
    },
    {
     "data": {
      "application/javascript": [
       "if (typeof Jupyter !== \"undefined\") {require([\"nbextensions/vpython_libraries/glow.min\"], function(){console.log(\"GLOW LOADED\");});}else{element.textContent = ' ';}"
      ],
      "text/plain": [
       "<IPython.core.display.Javascript object>"
      ]
     },
     "metadata": {},
     "output_type": "display_data"
    },
    {
     "data": {
      "application/javascript": [
       "if (typeof Jupyter !== \"undefined\") {require([\"nbextensions/vpython_libraries/glowcomm\"], function(){console.log(\"GLOWCOMM LOADED\");});}else{element.textContent = ' ';}"
      ],
      "text/plain": [
       "<IPython.core.display.Javascript object>"
      ]
     },
     "metadata": {},
     "output_type": "display_data"
    },
    {
     "data": {
      "application/javascript": [
       "if (typeof Jupyter !== \"undefined\") {require([\"nbextensions/vpython_libraries/jquery-ui.custom.min\"], function(){console.log(\"JQUERY LOADED\");});}else{element.textContent = ' ';}"
      ],
      "text/plain": [
       "<IPython.core.display.Javascript object>"
      ]
     },
     "metadata": {},
     "output_type": "display_data"
    }
   ],
   "source": [
    "# Ball\n",
    "ball = sphere(pos=vector(-5,0,0), radius=0.5, color=color.cyan, make_trail=True)\n",
    "\n",
    "# Walls\n",
    "wallR = box(pos=vector(6,0,0), size=vector(0.2,12,12), color=color.green)\n",
    "wallL = box(pos=vector(-6,0,0), size=vector(0.2,12,12), color=color.green)\n",
    "wallT = box(pos=vector(0,6,0), size=vector(12,0.2,12), color=color.blue)\n",
    "wallB = box(pos=vector(0,-6,0), size=vector(12,0.2,12), color=color.blue)\n",
    "wallBack = box(pos=vector(0,0,-6), size=vector(12,12,0.2), color=color.red)\n",
    "wallFront = vector(0,0,6) # Invisible wall\n",
    "\n",
    "# vector arrow scale\n",
    "vscale = 0.1\n",
    "\n",
    "# Initial time values and time steps\n",
    "t = 0\n",
    "deltat = 0.005"
   ]
  },
  {
   "cell_type": "markdown",
   "id": "9517430b",
   "metadata": {},
   "source": [
    "## Initializing ball velocity vectory and vector arrow and updating position"
   ]
  },
  {
   "cell_type": "code",
   "execution_count": 3,
   "id": "8a4f452f",
   "metadata": {},
   "outputs": [],
   "source": [
    "# Initial velocity for Ball\n",
    "ball.velocity = vector(25,5,15)\n",
    "\n",
    "# Ball velocity vector visualization(arrow)\n",
    "varr = arrow(pos=ball.pos, axis=vscale*ball.velocity, color=color.yellow)\n",
    "\n",
    "# Update ball position\n",
    "ball.pos = ball.pos + ball.velocity*deltat\n",
    "\n",
    "scene.autoscale = False # No fancy camera scaling"
   ]
  },
  {
   "cell_type": "markdown",
   "id": "191bc29a",
   "metadata": {},
   "source": [
    "## Infinite loop - ball will run forever "
   ]
  },
  {
   "cell_type": "code",
   "execution_count": null,
   "id": "bea92b84",
   "metadata": {},
   "outputs": [],
   "source": [
    "# Continuous simulation of the balls motion inside an enclosed object\n",
    "# These conditions will check for colisions with the ball and the inside walls of the box \n",
    "while True:\n",
    "    rate(100)\n",
    "\n",
    "    # Left and Right -> x component\n",
    "    if ball.pos.x + ball.radius >= wallR.pos.x or ball.pos.x - ball.radius <= wallL.pos.x: \n",
    "        ball.velocity.x = -ball.velocity.x\n",
    "        \n",
    "    # Top and Bottom -> y component\n",
    "    if ball.pos.y + ball.radius >= wallT.pos.y or ball.pos.y - ball.radius <= wallB.pos.y:\n",
    "        ball.velocity.y = -ball.velocity.y\n",
    "        \n",
    "    # Front and Back -> z component\n",
    "    if ball.pos.z + ball.radius >= wallFront.z or ball.pos.z - ball.radius <= wallBack.pos.z:\n",
    "        ball.velocity.z = -ball.velocity.z\n",
    "    \n",
    "    # Update ball position and time \n",
    "    ball.pos = ball.pos + ball.velocity*deltat \n",
    "    varr.pos = ball.pos\n",
    "    varr.axis = vscale*ball.velocity\n",
    "    t = t + deltat"
   ]
  },
  {
   "cell_type": "markdown",
   "id": "04865b4f",
   "metadata": {},
   "source": [
    "# GOALS"
   ]
  },
  {
   "cell_type": "markdown",
   "id": "72ec8aff",
   "metadata": {},
   "source": [
    "What I'd like to take from this class generally is an efficient way to create modeling programs and visualizations. A few goals include solidifying my python knowledge as it's my least used programming language, being able to apply probabilities to analyze and understand conceptually real world applications such as queueing, creating more confidence in my ability to create and use GUI applications to interact with simulation programs. "
   ]
  }
 ],
 "metadata": {
  "kernelspec": {
   "display_name": "Python 3 (ipykernel)",
   "language": "python",
   "name": "python3"
  },
  "language_info": {
   "codemirror_mode": {
    "name": "ipython",
    "version": 3
   },
   "file_extension": ".py",
   "mimetype": "text/x-python",
   "name": "python",
   "nbconvert_exporter": "python",
   "pygments_lexer": "ipython3",
   "version": "3.9.7"
  }
 },
 "nbformat": 4,
 "nbformat_minor": 5
}
