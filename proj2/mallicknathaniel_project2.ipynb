{
 "cells": [
  {
   "cell_type": "code",
   "execution_count": 3,
   "id": "5d16cb4c",
   "metadata": {},
   "outputs": [],
   "source": [
    "from vpython import *\n",
    "import matplotlib.pyplot as plt\n",
    "import math\n",
    "\n",
    "# scene = canvas()\n",
    "class universe: \n",
    "    \n",
    "    def __init__(self, deltat=0.1):\n",
    "        \n",
    "        self.num_planets = 0\n",
    "        self.planets = []\n",
    "        self.deltat = deltat\n",
    "        \n",
    "        # Gravitational Constant (m^3) (kg^-1) (s^-2)\n",
    "        self.G = 6.67408*pow(10, -11)\n",
    "        \n",
    "    def addPlanet(self, scale=1, mass=0, radius=0,\n",
    "                 velocity=vec(0,0,0), pos=vec(0,0,0), accel=vec(0, 0, 0), \n",
    "                 name=None, color=\"7f8c83\"\n",
    "                ):\n",
    "        \n",
    "        # Validate the classes variables and create a VPYTHON object\n",
    "        self.validate(radius=radius, mass=mass, color=color)\n",
    "        \n",
    "        # Create VPYTHON object\n",
    "        if name == None: \n",
    "            name = \"planet\" + str(self.num_planets)\n",
    "        \n",
    "        # Convert HEX to RGB\n",
    "        r = int(color[0:2], 16)\n",
    "        g = int(color[2:4], 16)\n",
    "        b = int(color[4:6], 16)\n",
    "        color = (1.0/255)*vec(r,g,b) # VPYTHON takes rgb values < 1\n",
    "    \n",
    "        # Make planet and append to a list of planets \n",
    "        self.planets.append(sphere(pos=(scale)*pos, real_pos = pos, velocity=velocity, accel=accel, mass=mass,\n",
    "                                   radius=radius, color=color, scale=scale, name=name, id=self.num_planets))\n",
    "        self.num_planets = len(self.planets)        \n",
    "\n",
    "    def getPlanets(self):\n",
    "        return self.planets\n",
    "                \n",
    "    def update(self): \n",
    "        self.updateAccel()\n",
    "        self.updateVelocity()\n",
    "        self.updatePosition()\n",
    "        \n",
    "    def updateAccel(self): \n",
    "        for i in self.planets:\n",
    "            force = vec(0,0,0)\n",
    "            for j in self.planets: \n",
    "                if i.id == j.id:\n",
    "                    continue\n",
    "#                 print(\"Calculating force between \" + i.name + \" and \" + j.name)\n",
    "                r =  j.real_pos-i.real_pos\n",
    "                force_mag = (self.G)*(i.mass)*(j.mass)/(mag(r)**2)\n",
    "                force += (force_mag/mag(r))*r\n",
    "                i.accel = (1/i.mass)*force\n",
    "            \n",
    "#             print(i.id, i.name, i.accel)\n",
    "\n",
    "    def updateVelocity(self): \n",
    "        for i in self.planets:\n",
    "            i.velocity = i.velocity + (self.deltat)*i.accel\n",
    "    \n",
    "    def updatePosition(self): \n",
    "        for i in self.planets:\n",
    "            i.real_pos = i.real_pos + i.velocity*(self.deltat)\n",
    "            i.pos = i.scale*i.real_pos\n",
    "    \n",
    "    def printData(self, id):\n",
    "        print(\"Accel\", self.planets[id].accel)\n",
    "        print(\"Vel\", self.planets[id].velocity)\n",
    "        print(\"Distance\", self.planets[id].real_pos)\n",
    "        print(\"Scaled pos\", self.planets[id].pos)\n",
    "        \n",
    "\n",
    "    # Validate initial parameters\n",
    "    def validate(self, radius, mass, color): \n",
    "        \n",
    "        # Validate mass and radius color value: \" + str(self.color))\n",
    "        \n",
    "        if mass <= 0: \n",
    "            raise ValueError(\"Positive value for mass required: \" + str(mass))\n",
    "        elif radius <= 0:\n",
    "            raise ValueError(\"Positive value for radius requied: \" + str(radius))\n",
    "        \n",
    "        # Validate color \n",
    "        if len(color) != 6:\n",
    "            raise ValueError(\"Incorrect color value: \" + str(self.color))\n",
    "        \n",
    "    \n",
    "    def clearAll(self):\n",
    "        self.num_planets = 0\n",
    "        self.planets.clear()"
   ]
  },
  {
   "cell_type": "code",
   "execution_count": 4,
   "id": "8a6ba334",
   "metadata": {},
   "outputs": [
    {
     "data": {
      "text/html": [
       "<div id=\"glowscript\" class=\"glowscript\"></div>"
      ],
      "text/plain": [
       "<IPython.core.display.HTML object>"
      ]
     },
     "metadata": {},
     "output_type": "display_data"
    },
    {
     "data": {
      "application/javascript": [
       "if (typeof Jupyter !== \"undefined\") { window.__context = { glowscript_container: $(\"#glowscript\").removeAttr(\"id\")};}else{ element.textContent = ' ';}"
      ],
      "text/plain": [
       "<IPython.core.display.Javascript object>"
      ]
     },
     "metadata": {},
     "output_type": "display_data"
    },
    {
     "ename": "KeyboardInterrupt",
     "evalue": "",
     "output_type": "error",
     "traceback": [
      "\u001b[0;31m---------------------------------------------------------------------------\u001b[0m",
      "\u001b[0;31mKeyboardInterrupt\u001b[0m                         Traceback (most recent call last)",
      "\u001b[0;32m/tmp/ipykernel_21447/2906366114.py\u001b[0m in \u001b[0;36m<module>\u001b[0;34m\u001b[0m\n\u001b[1;32m      8\u001b[0m \u001b[0;34m\u001b[0m\u001b[0m\n\u001b[1;32m      9\u001b[0m \u001b[0;32mwhile\u001b[0m \u001b[0;32mTrue\u001b[0m\u001b[0;34m:\u001b[0m\u001b[0;34m\u001b[0m\u001b[0;34m\u001b[0m\u001b[0m\n\u001b[0;32m---> 10\u001b[0;31m     \u001b[0mrate\u001b[0m\u001b[0;34m(\u001b[0m \u001b[0;36m100000\u001b[0m \u001b[0;34m)\u001b[0m\u001b[0;34m\u001b[0m\u001b[0;34m\u001b[0m\u001b[0m\n\u001b[0m\u001b[1;32m     11\u001b[0m     \u001b[0msystem\u001b[0m\u001b[0;34m.\u001b[0m\u001b[0mupdate\u001b[0m\u001b[0;34m(\u001b[0m\u001b[0;34m)\u001b[0m\u001b[0;34m\u001b[0m\u001b[0;34m\u001b[0m\u001b[0m\n\u001b[1;32m     12\u001b[0m \u001b[0;31m#     system.printData(1)\u001b[0m\u001b[0;34m\u001b[0m\u001b[0;34m\u001b[0m\u001b[0m\n",
      "\u001b[0;32m~/anaconda3/envs/ece1180/lib/python3.9/site-packages/vpython/rate_control.py\u001b[0m in \u001b[0;36m__call__\u001b[0;34m(self, N)\u001b[0m\n\u001b[1;32m    264\u001b[0m         \u001b[0mself\u001b[0m\u001b[0;34m.\u001b[0m\u001b[0mrval\u001b[0m \u001b[0;34m=\u001b[0m \u001b[0mN\u001b[0m\u001b[0;34m\u001b[0m\u001b[0;34m\u001b[0m\u001b[0m\n\u001b[1;32m    265\u001b[0m         \u001b[0;32mif\u001b[0m \u001b[0mself\u001b[0m\u001b[0;34m.\u001b[0m\u001b[0mrval\u001b[0m \u001b[0;34m<\u001b[0m \u001b[0;36m1\u001b[0m\u001b[0;34m:\u001b[0m \u001b[0;32mraise\u001b[0m \u001b[0mValueError\u001b[0m\u001b[0;34m(\u001b[0m\u001b[0;34m\"rate value must be greater than or equal to 1\"\u001b[0m\u001b[0;34m)\u001b[0m\u001b[0;34m\u001b[0m\u001b[0;34m\u001b[0m\u001b[0m\n\u001b[0;32m--> 266\u001b[0;31m         \u001b[0msuper\u001b[0m\u001b[0;34m(\u001b[0m\u001b[0m_RateKeeper2\u001b[0m\u001b[0;34m,\u001b[0m \u001b[0mself\u001b[0m\u001b[0;34m)\u001b[0m\u001b[0;34m.\u001b[0m\u001b[0m__call__\u001b[0m\u001b[0;34m(\u001b[0m\u001b[0mself\u001b[0m\u001b[0;34m.\u001b[0m\u001b[0mrval\u001b[0m\u001b[0;34m)\u001b[0m \u001b[0;31m## calls __call__ in rate_control.py\u001b[0m\u001b[0;34m\u001b[0m\u001b[0;34m\u001b[0m\u001b[0m\n\u001b[0m\u001b[1;32m    267\u001b[0m \u001b[0;34m\u001b[0m\u001b[0m\n\u001b[1;32m    268\u001b[0m \u001b[0;34m\u001b[0m\u001b[0m\n",
      "\u001b[0;32m~/anaconda3/envs/ece1180/lib/python3.9/site-packages/vpython/rate_control.py\u001b[0m in \u001b[0;36m__call__\u001b[0;34m(self, maxRate)\u001b[0m\n\u001b[1;32m    218\u001b[0m             \u001b[0mdt\u001b[0m \u001b[0;34m=\u001b[0m \u001b[0mself\u001b[0m\u001b[0;34m.\u001b[0m\u001b[0mlastSleep\u001b[0m \u001b[0;34m+\u001b[0m \u001b[0mself\u001b[0m\u001b[0;34m.\u001b[0m\u001b[0mcalls\u001b[0m\u001b[0;34m*\u001b[0m\u001b[0;34m(\u001b[0m\u001b[0mself\u001b[0m\u001b[0;34m.\u001b[0m\u001b[0muserTime\u001b[0m \u001b[0;34m+\u001b[0m \u001b[0mself\u001b[0m\u001b[0;34m.\u001b[0m\u001b[0mcallTime\u001b[0m \u001b[0;34m+\u001b[0m \u001b[0mself\u001b[0m\u001b[0;34m.\u001b[0m\u001b[0mdelay\u001b[0m\u001b[0;34m)\u001b[0m \u001b[0;34m+\u001b[0m\u001b[0;31m \u001b[0m\u001b[0;31m\\\u001b[0m\u001b[0;34m\u001b[0m\u001b[0;34m\u001b[0m\u001b[0m\n\u001b[1;32m    219\u001b[0m                  \u001b[0mrenders\u001b[0m\u001b[0;34m*\u001b[0m\u001b[0mself\u001b[0m\u001b[0;34m.\u001b[0m\u001b[0mrenderTime\u001b[0m \u001b[0;34m+\u001b[0m \u001b[0msleeps\u001b[0m\u001b[0;34m*\u001b[0m\u001b[0mself\u001b[0m\u001b[0;34m.\u001b[0m\u001b[0minteractionPeriod\u001b[0m \u001b[0;34m-\u001b[0m \u001b[0m_clock\u001b[0m\u001b[0;34m(\u001b[0m\u001b[0;34m)\u001b[0m\u001b[0;34m\u001b[0m\u001b[0;34m\u001b[0m\u001b[0m\n\u001b[0;32m--> 220\u001b[0;31m             \u001b[0m_sleep\u001b[0m\u001b[0;34m(\u001b[0m\u001b[0mdt\u001b[0m\u001b[0;34m)\u001b[0m\u001b[0;34m\u001b[0m\u001b[0;34m\u001b[0m\u001b[0m\n\u001b[0m\u001b[1;32m    221\u001b[0m             \u001b[0mself\u001b[0m\u001b[0;34m.\u001b[0m\u001b[0mlastSleep\u001b[0m \u001b[0;34m=\u001b[0m \u001b[0m_clock\u001b[0m\u001b[0;34m(\u001b[0m\u001b[0;34m)\u001b[0m\u001b[0;34m\u001b[0m\u001b[0;34m\u001b[0m\u001b[0m\n\u001b[1;32m    222\u001b[0m             \u001b[0mself\u001b[0m\u001b[0;34m.\u001b[0m\u001b[0mcalls\u001b[0m \u001b[0;34m=\u001b[0m \u001b[0;36m0\u001b[0m\u001b[0;34m\u001b[0m\u001b[0;34m\u001b[0m\u001b[0m\n",
      "\u001b[0;32m~/anaconda3/envs/ece1180/lib/python3.9/site-packages/vpython/rate_control.py\u001b[0m in \u001b[0;36m_sleep\u001b[0;34m(dt)\u001b[0m\n\u001b[1;32m     60\u001b[0m         \u001b[0mdtsleep\u001b[0m \u001b[0;34m=\u001b[0m \u001b[0mnticks\u001b[0m\u001b[0;34m*\u001b[0m\u001b[0m_tick\u001b[0m\u001b[0;34m\u001b[0m\u001b[0;34m\u001b[0m\u001b[0m\n\u001b[1;32m     61\u001b[0m         \u001b[0mt\u001b[0m \u001b[0;34m=\u001b[0m \u001b[0m_clock\u001b[0m\u001b[0;34m(\u001b[0m\u001b[0;34m)\u001b[0m\u001b[0;34m\u001b[0m\u001b[0;34m\u001b[0m\u001b[0m\n\u001b[0;32m---> 62\u001b[0;31m         \u001b[0mtime\u001b[0m\u001b[0;34m.\u001b[0m\u001b[0msleep\u001b[0m\u001b[0;34m(\u001b[0m\u001b[0mdtsleep\u001b[0m\u001b[0;34m)\u001b[0m\u001b[0;34m\u001b[0m\u001b[0;34m\u001b[0m\u001b[0m\n\u001b[0m\u001b[1;32m     63\u001b[0m         \u001b[0mt\u001b[0m \u001b[0;34m=\u001b[0m \u001b[0m_clock\u001b[0m\u001b[0;34m(\u001b[0m\u001b[0;34m)\u001b[0m\u001b[0;34m-\u001b[0m\u001b[0mt\u001b[0m\u001b[0;34m\u001b[0m\u001b[0;34m\u001b[0m\u001b[0m\n\u001b[1;32m     64\u001b[0m         \u001b[0mdt\u001b[0m \u001b[0;34m-=\u001b[0m \u001b[0mt\u001b[0m\u001b[0;34m\u001b[0m\u001b[0;34m\u001b[0m\u001b[0m\n",
      "\u001b[0;31mKeyboardInterrupt\u001b[0m: "
     ]
    }
   ],
   "source": [
    "system = universe()\n",
    "scene = canvas()\n",
    "\n",
    "system.clearAll()\n",
    "\n",
    "system.addPlanet(mass=5.972*pow(10,24), radius=3, pos=vec(0,0,0))\n",
    "system.addPlanet(mass=420000*pow(10,3), radius=1, pos=vec(0, 6378.1*pow(10,3), 0), scale=(1.0/pow(10,5)), velocity=vec(4000, 0, 0))\n",
    "\n",
    "while True:\n",
    "    rate( 1000 )\n",
    "    system.update()\n",
    "#     system.printData(1)"
   ]
  },
  {
   "cell_type": "code",
   "execution_count": 97,
   "id": "62c59798",
   "metadata": {},
   "outputs": [
    {
     "name": "stdout",
     "output_type": "stream",
     "text": [
      "2.4582007779393763e-14\n"
     ]
    }
   ],
   "source": [
    "## TEST CELL ##\n",
    "\n",
    "print(1/((-6.3781*pow(10,6))**2))"
   ]
  }
 ],
 "metadata": {
  "kernelspec": {
   "display_name": "Python 3 (ipykernel)",
   "language": "python",
   "name": "python3"
  },
  "language_info": {
   "codemirror_mode": {
    "name": "ipython",
    "version": 3
   },
   "file_extension": ".py",
   "mimetype": "text/x-python",
   "name": "python",
   "nbconvert_exporter": "python",
   "pygments_lexer": "ipython3",
   "version": "3.9.7"
  }
 },
 "nbformat": 4,
 "nbformat_minor": 5
}
