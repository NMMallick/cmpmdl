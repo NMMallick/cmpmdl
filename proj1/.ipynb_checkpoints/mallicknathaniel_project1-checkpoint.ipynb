{
 "cells": [
  {
   "cell_type": "markdown",
   "id": "f564d6ed",
   "metadata": {},
   "source": [
    "<h3 align=\"left\"> Nathaniel Mallick</h3>\n",
    "<h1>\n",
    "    <font size='20px' color='blue'>Project 1</font>\n",
    "</h1>"
   ]
  },
  {
   "cell_type": "markdown",
   "id": "bd2817cf",
   "metadata": {},
   "source": [
    "<h2 align=\"center\">Imports and Global Variables</h2>"
   ]
  },
  {
   "cell_type": "code",
   "execution_count": 1,
   "id": "cdd4cd5b",
   "metadata": {},
   "outputs": [
    {
     "data": {
      "text/html": [
       "<div id=\"glowscript\" class=\"glowscript\"></div>"
      ],
      "text/plain": [
       "<IPython.core.display.HTML object>"
      ]
     },
     "metadata": {},
     "output_type": "display_data"
    },
    {
     "data": {
      "application/javascript": [
       "if (typeof Jupyter !== \"undefined\") { window.__context = { glowscript_container: $(\"#glowscript\").removeAttr(\"id\")};}else{ element.textContent = ' ';}"
      ],
      "text/plain": [
       "<IPython.core.display.Javascript object>"
      ]
     },
     "metadata": {},
     "output_type": "display_data"
    }
   ],
   "source": [
    "from vpython import *\n",
    "import matplotlib.pyplot as plt\n",
    "import math\n",
    "\n",
    "g = -9.8 # GRAVITY (in a John Mayer voice)\n",
    "scale = { \n",
    "    \"pos\" : 0.5,\n",
    "    \"rgb\" : (1.0/255)\n",
    "}"
   ]
  },
  {
   "cell_type": "markdown",
   "id": "f3911f9d",
   "metadata": {},
   "source": [
    "<h2 align=\"center\">(1.a) Falling</h2>\n",
    "<a id=\"a\"></a>"
   ]
  },
  {
   "cell_type": "markdown",
   "id": "b886c124",
   "metadata": {},
   "source": [
    "#### Simulation of a ball falling from a specific height in real time."
   ]
  },
  {
   "cell_type": "code",
   "execution_count": 2,
   "id": "e66bb3c2",
   "metadata": {},
   "outputs": [
    {
     "data": {
      "text/html": [
       "<div id=\"glowscript\" class=\"glowscript\"></div>"
      ],
      "text/plain": [
       "<IPython.core.display.HTML object>"
      ]
     },
     "metadata": {},
     "output_type": "display_data"
    },
    {
     "data": {
      "application/javascript": [
       "if (typeof Jupyter !== \"undefined\") { window.__context = { glowscript_container: $(\"#glowscript\").removeAttr(\"id\")};}else{ element.textContent = ' ';}"
      ],
      "text/plain": [
       "<IPython.core.display.Javascript object>"
      ]
     },
     "metadata": {},
     "output_type": "display_data"
    },
    {
     "data": {
      "application/javascript": [
       "if (typeof Jupyter !== \"undefined\") {require.undef(\"nbextensions/vpython_libraries/glow.min\");}else{element.textContent = ' ';}"
      ],
      "text/plain": [
       "<IPython.core.display.Javascript object>"
      ]
     },
     "metadata": {},
     "output_type": "display_data"
    },
    {
     "data": {
      "application/javascript": [
       "if (typeof Jupyter !== \"undefined\") {require.undef(\"nbextensions/vpython_libraries/glowcomm\");}else{element.textContent = ' ';}"
      ],
      "text/plain": [
       "<IPython.core.display.Javascript object>"
      ]
     },
     "metadata": {},
     "output_type": "display_data"
    },
    {
     "data": {
      "application/javascript": [
       "if (typeof Jupyter !== \"undefined\") {require.undef(\"nbextensions/vpython_libraries/jquery-ui.custom.min\");}else{element.textContent = ' ';}"
      ],
      "text/plain": [
       "<IPython.core.display.Javascript object>"
      ]
     },
     "metadata": {},
     "output_type": "display_data"
    },
    {
     "data": {
      "application/javascript": [
       "if (typeof Jupyter !== \"undefined\") {require([\"nbextensions/vpython_libraries/glow.min\"], function(){console.log(\"GLOW LOADED\");});}else{element.textContent = ' ';}"
      ],
      "text/plain": [
       "<IPython.core.display.Javascript object>"
      ]
     },
     "metadata": {},
     "output_type": "display_data"
    },
    {
     "data": {
      "application/javascript": [
       "if (typeof Jupyter !== \"undefined\") {require([\"nbextensions/vpython_libraries/glowcomm\"], function(){console.log(\"GLOWCOMM LOADED\");});}else{element.textContent = ' ';}"
      ],
      "text/plain": [
       "<IPython.core.display.Javascript object>"
      ]
     },
     "metadata": {},
     "output_type": "display_data"
    },
    {
     "data": {
      "application/javascript": [
       "if (typeof Jupyter !== \"undefined\") {require([\"nbextensions/vpython_libraries/jquery-ui.custom.min\"], function(){console.log(\"JQUERY LOADED\");});}else{element.textContent = ' ';}"
      ],
      "text/plain": [
       "<IPython.core.display.Javascript object>"
      ]
     },
     "metadata": {},
     "output_type": "display_data"
    }
   ],
   "source": [
    "falling = canvas() # Falling scene\n",
    "\n",
    "# Initial Variables\n",
    "init_pos = vec(0,20,0)\n",
    "t = 0\n",
    "deltat = 0.001\n",
    "\n",
    "# Create Objects\n",
    "ball = sphere(pos=init_pos, radius=0.5, color=color.cyan)\n",
    "earth = box(pos=scale[\"pos\"]*vec(0,0,0), size=vec(10, 0.2,10), color=scale[\"rgb\"]*vec(75,83,20))\n",
    "\n",
    "# Initial velocity for ball\n",
    "ball.velocity = vector(0,0,0)\n",
    "\n",
    "# Update ball position\n",
    "ball.pos = ball.pos + ball.velocity*deltat\n",
    "\n",
    "scene.autoscale = False # No fancy camera scaling1/deltat\n",
    "while True: \n",
    "    \n",
    "    rate( 1/deltat ) # Loop iteration rate \n",
    "\n",
    "    # Update ball velocity and position \n",
    "    ball.velocity.y = ball.velocity.y + g*deltat\n",
    "    ball.pos = ball.pos + ball.velocity*deltat\n",
    "    t = t + deltat\n",
    "    \n",
    "    # Top and Bottom -> y component\n",
    "    if (ball.pos.y - ball.radius) <= (earth.pos.y):\n",
    "        break;\n",
    "        "
   ]
  },
  {
   "cell_type": "markdown",
   "id": "4e22fc32",
   "metadata": {},
   "source": [
    "<h2 align=\"center\">1.b Elastic Collision</h2>"
   ]
  },
  {
   "cell_type": "markdown",
   "id": "10894216",
   "metadata": {},
   "source": [
    "#### Simulation of ball bouncing ( Elastic - Energy is conserved ) "
   ]
  },
  {
   "cell_type": "code",
   "execution_count": 3,
   "id": "6736a51b",
   "metadata": {
    "scrolled": true
   },
   "outputs": [
    {
     "data": {
      "text/html": [
       "<div id=\"glowscript\" class=\"glowscript\"></div>"
      ],
      "text/plain": [
       "<IPython.core.display.HTML object>"
      ]
     },
     "metadata": {},
     "output_type": "display_data"
    },
    {
     "data": {
      "application/javascript": [
       "if (typeof Jupyter !== \"undefined\") { window.__context = { glowscript_container: $(\"#glowscript\").removeAttr(\"id\")};}else{ element.textContent = ' ';}"
      ],
      "text/plain": [
       "<IPython.core.display.Javascript object>"
      ]
     },
     "metadata": {},
     "output_type": "display_data"
    }
   ],
   "source": [
    "elastic = canvas() # Scene\n",
    "\n",
    "# Initial variables of time, dt, and position\n",
    "t = 0\n",
    "deltat = 0.001\n",
    "init_pos = vec(0,20,0)\n",
    "\n",
    "# Create Objects\n",
    "ball = sphere(pos=init_pos, radius=0.5, color=color.cyan)\n",
    "earth = box(pos=scale[\"pos\"]*vec(0,0,0), size=vec(10, 0.2,10), color=scale[\"rgb\"]*vec(75,83,20))\n",
    "\n",
    "# Initial velocity for Ball\n",
    "ball.velocity = vector(0,0,0)\n",
    "\n",
    "# Update ball position\n",
    "ball.pos = ball.pos + ball.velocity*deltat\n",
    "\n",
    "# scene.autoscale = False # No fancy camera scaling1/deltat\n",
    "\n",
    "while t < 40: \n",
    "    \n",
    "    rate( 1/deltat ) # Loop iteration rate \n",
    "    \n",
    "    # Update ball velocity and position \n",
    "    ball.velocity.y = ball.velocity.y + g*deltat\n",
    "    ball.pos = ball.pos + ball.velocity*deltat\n",
    "    t = t + deltat\n",
    "    \n",
    "    # Top and Bottom -> y component\n",
    "    if (ball.pos.y - ball.radius) <= (earth.pos.y):\n",
    "        if ball.velocity.y > 0: \n",
    "            continue \n",
    "        elif abs(ball.velocity.y) < 0.04: \n",
    "            break\n",
    "        else: \n",
    "            ball.velocity.y = -ball.velocity.y "
   ]
  },
  {
   "cell_type": "markdown",
   "id": "15f7b564",
   "metadata": {},
   "source": [
    "<h2 align=\"center\">1.c Launch</h2>"
   ]
  },
  {
   "cell_type": "markdown",
   "id": "ed7dc59d",
   "metadata": {},
   "source": [
    "#### Ball launch with positive x and y velocity components. Inelastic characteristics are introduced when the ball hits the ground"
   ]
  },
  {
   "cell_type": "code",
   "execution_count": 5,
   "id": "d3b488c7",
   "metadata": {},
   "outputs": [
    {
     "data": {
      "text/html": [
       "<div id=\"glowscript\" class=\"glowscript\"></div>"
      ],
      "text/plain": [
       "<IPython.core.display.HTML object>"
      ]
     },
     "metadata": {},
     "output_type": "display_data"
    },
    {
     "data": {
      "application/javascript": [
       "if (typeof Jupyter !== \"undefined\") { window.__context = { glowscript_container: $(\"#glowscript\").removeAttr(\"id\")};}else{ element.textContent = ' ';}"
      ],
      "text/plain": [
       "<IPython.core.display.Javascript object>"
      ]
     },
     "metadata": {},
     "output_type": "display_data"
    },
    {
     "data": {
      "image/png": "[encoded data removed]",
      "text/plain": [
       "<Figure size 432x288 with 1 Axes>"
      ]
     },
     "metadata": {
      "needs_background": "light"
     },
     "output_type": "display_data"
    }
   ],
   "source": [
    "launch = canvas()\n",
    "launch.autoscale = False # No fancy camera scaling1/deltat\n",
    "\n",
    "# Initial time values, time steps and velocity \n",
    "t = 0\n",
    "init_velocity = vec(5,5,0)\n",
    "deltat = 0.001\n",
    "init_pos = vec(-10, 10, 0)\n",
    "\n",
    "# coefficient of resitution and friction\n",
    "tao = 0.75\n",
    "mu = 1.0 # Rubber on concrete \n",
    "\n",
    "\n",
    "ball = sphere(pos=init_pos, velocity=init_velocity, radius=0.5, color=color.cyan)\n",
    "earth = box(pos=vec(0,0,0), size=vec(50, 0.2,10), color=scale[\"rgb\"]*vec(75,83,20))\n",
    "\n",
    "\n",
    "# Update ball position\n",
    "ball.pos = ball.pos + ball.velocity*deltat\n",
    "\n",
    "# Data accumulation variables\n",
    "x = []\n",
    "v = []\n",
    "time = []\n",
    "a = 9.8\n",
    "\n",
    "while True: \n",
    "    # Loop iteration rate \n",
    "    rate( 1/deltat ) \n",
    "    \n",
    "    # For plotting time, distance and velocity\n",
    "    time.append(t)\n",
    "    x.append(ball.pos.y)\n",
    "    v.append(ball.velocity.y)\n",
    "    \n",
    "    # Update ball velocity and position \n",
    "    ball.velocity.y = ball.velocity.y + g*deltat\n",
    "    ball.pos = ball.pos + ball.velocity*deltat\n",
    "    \n",
    "    # Add more earth for the ball to bounce on\n",
    "    earth.size.x =  earth.size.x + ball.pos.x\n",
    "    \n",
    "    t = t + deltat # update time\n",
    "    \n",
    "    # Top and Bottom -> y component\n",
    "    if (ball.pos.y - ball.radius) <= (earth.pos.y):\n",
    "        if ball.velocity.y > 0: \n",
    "            continue \n",
    "        # Threshold to stop\n",
    "        elif abs(ball.velocity.y) < 0.04 and abs(ball.velocity.x) <= 0.01: \n",
    "            break\n",
    "        else: \n",
    "            ball.velocity.y = -tao*ball.velocity.y\n",
    "            ball.velocity.x = ball.velocity.x + (-mu)*deltat\n",
    "\n",
    "\n",
    "fig, ax = plt.subplots() \n",
    "ax.plot(time, x)\n",
    "ax.plot(time, v)\n",
    "plt.show()\n"
   ]
  },
  {
   "cell_type": "markdown",
   "id": "00d0e7f5",
   "metadata": {},
   "source": [
    "<h2 align=\"center\">1.d Launch with Air Resistance</h2>\n",
    "\n",
    "### "
   ]
  },
  {
   "cell_type": "code",
   "execution_count": 20,
   "id": "77695cd8",
   "metadata": {},
   "outputs": [
    {
     "name": "stdout",
     "output_type": "stream",
     "text": [
      "<0, -0.578143, 0>\n"
     ]
    }
   ],
   "source": [
    "# Created objects\n",
    "ball = sphere(pos=init_pos, radius=0.5, color=color.cyan)\n",
    "earth = box(pos=vec(0,0,0), size=vec(50, 0.2,10), color=scale[\"rgb\"]*vec(75,83,20))\n",
    "\n",
    "# Air Resistance Constants\n",
    "rho = 1.2\n",
    "C = 0.47\n",
    "\n",
    "# Mass and Surface Area of ball\n",
    "A = pi*(ball.radius ** 2)\n",
    "m = 0.624 # basketball in kg\n",
    "\n",
    "\n",
    "ball.velocity = vec(5, 5, 0)\n",
    "acceleration = vec(0, -9.8, 0)\n",
    "\n",
    "fnet = m*acceleration - (0.5)*rho*A*C*(mag(ball.velocity)**2)*norm(ball.velocity)\n",
    "print(fnet)\n",
    "\n"
   ]
  },
  {
   "cell_type": "markdown",
   "id": "488fd486",
   "metadata": {},
   "source": [
    "<h2 align=\"center\">1.e Inelastic Collision</h2> "
   ]
  },
  {
   "cell_type": "code",
   "execution_count": null,
   "id": "d8b73ed1",
   "metadata": {},
   "outputs": [
    {
     "data": {
      "text/html": [
       "<div id=\"glowscript\" class=\"glowscript\"></div>"
      ],
      "text/plain": [
       "<IPython.core.display.HTML object>"
      ]
     },
     "metadata": {},
     "output_type": "display_data"
    },
    {
     "data": {
      "application/javascript": [
       "if (typeof Jupyter !== \"undefined\") { window.__context = { glowscript_container: $(\"#glowscript\").removeAttr(\"id\")};}else{ element.textContent = ' ';}"
      ],
      "text/plain": [
       "<IPython.core.display.Javascript object>"
      ]
     },
     "metadata": {},
     "output_type": "display_data"
    },
    {
     "data": {
      "application/javascript": [
       "if (typeof Jupyter !== \"undefined\") {require.undef(\"nbextensions/vpython_libraries/glow.min\");}else{element.textContent = ' ';}"
      ],
      "text/plain": [
       "<IPython.core.display.Javascript object>"
      ]
     },
     "metadata": {},
     "output_type": "display_data"
    },
    {
     "data": {
      "application/javascript": [
       "if (typeof Jupyter !== \"undefined\") {require.undef(\"nbextensions/vpython_libraries/glowcomm\");}else{element.textContent = ' ';}"
      ],
      "text/plain": [
       "<IPython.core.display.Javascript object>"
      ]
     },
     "metadata": {},
     "output_type": "display_data"
    },
    {
     "data": {
      "application/javascript": [
       "if (typeof Jupyter !== \"undefined\") {require.undef(\"nbextensions/vpython_libraries/jquery-ui.custom.min\");}else{element.textContent = ' ';}"
      ],
      "text/plain": [
       "<IPython.core.display.Javascript object>"
      ]
     },
     "metadata": {},
     "output_type": "display_data"
    },
    {
     "data": {
      "application/javascript": [
       "if (typeof Jupyter !== \"undefined\") {require([\"nbextensions/vpython_libraries/glow.min\"], function(){console.log(\"GLOW LOADED\");});}else{element.textContent = ' ';}"
      ],
      "text/plain": [
       "<IPython.core.display.Javascript object>"
      ]
     },
     "metadata": {},
     "output_type": "display_data"
    },
    {
     "data": {
      "application/javascript": [
       "if (typeof Jupyter !== \"undefined\") {require([\"nbextensions/vpython_libraries/glowcomm\"], function(){console.log(\"GLOWCOMM LOADED\");});}else{element.textContent = ' ';}"
      ],
      "text/plain": [
       "<IPython.core.display.Javascript object>"
      ]
     },
     "metadata": {},
     "output_type": "display_data"
    },
    {
     "data": {
      "application/javascript": [
       "if (typeof Jupyter !== \"undefined\") {require([\"nbextensions/vpython_libraries/jquery-ui.custom.min\"], function(){console.log(\"JQUERY LOADED\");});}else{element.textContent = ' ';}"
      ],
      "text/plain": [
       "<IPython.core.display.Javascript object>"
      ]
     },
     "metadata": {},
     "output_type": "display_data"
    }
   ],
   "source": [
    "inelastic = canvas()\n",
    "\n",
    "init_pos = vec(0,20,0)\n",
    "\n",
    "# coefficient of resitution \n",
    "tao = 0.75\n",
    "\n",
    "ball = sphere(pos=init_pos, radius=0.5, color=color.cyan)\n",
    "earth = box(pos=scale[\"pos\"]*vec(0,0,0), size=vec(10, 0.2,10), color=scale[\"rgb\"]*vec(75,83,20))\n",
    "\n",
    "# Initial time values and time steps\n",
    "t = 0\n",
    "deltat = 0.001\n",
    "\n",
    "# Initial velocity for Ball\n",
    "ball.velocity = vector(0,0,0)\n",
    "\n",
    "# Update ball position\n",
    "ball.pos = ball.pos + ball.velocity*deltat\n",
    "\n",
    "# scene.autoscale = False # No fancy camera scaling1/deltat\n",
    "\n",
    "while True: \n",
    "    \n",
    "    rate( 1/deltat ) # Loop iteration rate \n",
    "    \n",
    "    # Update ball velocity and position \n",
    "    ball.velocity.y = ball.velocity.y + g*deltat\n",
    "    ball.pos = ball.pos + ball.velocity*deltat\n",
    "    t = t + deltat\n",
    "    \n",
    "    # Top and Bottom -> y component\n",
    "    if (ball.pos.y - ball.radius) <= (earth.pos.y):\n",
    "        if ball.velocity.y > 0: \n",
    "            continue \n",
    "        elif abs(ball.velocity.y) < 0.04: \n",
    "            break\n",
    "        else: \n",
    "            ball.velocity.y = -tao*ball.velocity.y \n",
    "            \n",
    "print(\"Done\")"
   ]
  },
  {
   "cell_type": "code",
   "execution_count": null,
   "id": "80455c2e",
   "metadata": {},
   "outputs": [],
   "source": []
  }
 ],
 "metadata": {
  "kernelspec": {
   "display_name": "Python 3 (ipykernel)",
   "language": "python",
   "name": "python3"
  },
  "language_info": {
   "codemirror_mode": {
    "name": "ipython",
    "version": 3
   },
   "file_extension": ".py",
   "mimetype": "text/x-python",
   "name": "python",
   "nbconvert_exporter": "python",
   "pygments_lexer": "ipython3",
   "version": "3.9.7"
  }
 },
 "nbformat": 4,
 "nbformat_minor": 5
}
