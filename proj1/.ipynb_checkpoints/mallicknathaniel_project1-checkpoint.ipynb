{
 "cells": [
  {
   "cell_type": "code",
   "execution_count": 1,
   "id": "cdd4cd5b",
   "metadata": {},
   "outputs": [
    {
     "data": {
      "text/html": [
       "<div id=\"glowscript\" class=\"glowscript\"></div>"
      ],
      "text/plain": [
       "<IPython.core.display.HTML object>"
      ]
     },
     "metadata": {},
     "output_type": "display_data"
    },
    {
     "data": {
      "application/javascript": [
       "if (typeof Jupyter !== \"undefined\") { window.__context = { glowscript_container: $(\"#glowscript\").removeAttr(\"id\")};}else{ element.textContent = ' ';}"
      ],
      "text/plain": [
       "<IPython.core.display.Javascript object>"
      ]
     },
     "metadata": {},
     "output_type": "display_data"
    }
   ],
   "source": [
    "from vpython import *\n",
    "import matplotlib.pyplot as plt\n",
    "\n",
    "g = -9.8 # GRAVITY (in a John Mayer voice)\n",
    "init_pos = vec(0,100,0)\n",
    "scale = { \n",
    "    \"pos\" : 0.5,\n",
    "    \"rgb\" : (1.0/255)\n",
    "}"
   ]
  },
  {
   "cell_type": "markdown",
   "id": "f3911f9d",
   "metadata": {},
   "source": [
    "## Falling "
   ]
  },
  {
   "cell_type": "code",
   "execution_count": 18,
   "id": "e66bb3c2",
   "metadata": {},
   "outputs": [
    {
     "data": {
      "text/html": [
       "<div id=\"glowscript\" class=\"glowscript\"></div>"
      ],
      "text/plain": [
       "<IPython.core.display.HTML object>"
      ]
     },
     "metadata": {},
     "output_type": "display_data"
    },
    {
     "data": {
      "application/javascript": [
       "if (typeof Jupyter !== \"undefined\") { window.__context = { glowscript_container: $(\"#glowscript\").removeAttr(\"id\")};}else{ element.textContent = ' ';}"
      ],
      "text/plain": [
       "<IPython.core.display.Javascript object>"
      ]
     },
     "metadata": {},
     "output_type": "display_data"
    },
    {
     "data": {
      "image/png": "[encoded data removed]",
      "text/plain": [
       "<Figure size 432x288 with 1 Axes>"
      ]
     },
     "metadata": {
      "needs_background": "light"
     },
     "output_type": "display_data"
    }
   ],
   "source": [
    "falling = canvas() # SCENE\n",
    "\n",
    "# Objects\n",
    "ball = sphere(pos=init_pos, radius=0.5, color=color.cyan)\n",
    "earth = box(pos=scale[\"pos\"]*vec(0,0,0), size=vec(10, 0.2,10), color=scale[\"rgb\"]*vec(75,83,20))\n",
    "\n",
    "# Initial time values and time steps\n",
    "t = 0\n",
    "deltat = 0.001\n",
    "\n",
    "# Initial velocity for ball\n",
    "ball.velocity = vector(0,0,0)\n",
    "\n",
    "# Update ball position\n",
    "ball.pos = ball.pos + ball.velocity*deltat\n",
    "\n",
    "x = []\n",
    "y = []\n",
    "scene.autoscale = False # No fancy camera scaling1/deltat\n",
    "while True: \n",
    "    \n",
    "    rate( 1/deltat ) # Loop iteration rate \n",
    "   \n",
    "    x.append(t)\n",
    "    y.append(ball.velocity.y)\n",
    "    \n",
    "    \n",
    "    # Update ball velocity and position \n",
    "    ball.velocity.y = ball.velocity.y + g*deltat\n",
    "    ball.pos = ball.pos + ball.velocity*deltat\n",
    "    t = t + deltat\n",
    "    \n",
    "    # Top and Bottom -> y component\n",
    "    if (ball.pos.y - ball.radius) <= (earth.pos.y):\n",
    "        break;\n",
    "        \n",
    "plt.plot(x,y)\n",
    "plt.show()"
   ]
  },
  {
   "cell_type": "markdown",
   "id": "4e22fc32",
   "metadata": {},
   "source": [
    "## 2 Elastic Collision"
   ]
  },
  {
   "cell_type": "code",
   "execution_count": 8,
   "id": "6736a51b",
   "metadata": {},
   "outputs": [
    {
     "data": {
      "text/html": [
       "<div id=\"glowscript\" class=\"glowscript\"></div>"
      ],
      "text/plain": [
       "<IPython.core.display.HTML object>"
      ]
     },
     "metadata": {},
     "output_type": "display_data"
    },
    {
     "data": {
      "application/javascript": [
       "if (typeof Jupyter !== \"undefined\") { window.__context = { glowscript_container: $(\"#glowscript\").removeAttr(\"id\")};}else{ element.textContent = ' ';}"
      ],
      "text/plain": [
       "<IPython.core.display.Javascript object>"
      ]
     },
     "metadata": {},
     "output_type": "display_data"
    }
   ],
   "source": [
    "elastic = canvas() # Scene\n",
    "\n",
    "# Objects\n",
    "ball = sphere(pos=init_pos, radius=0.5, color=color.cyan)\n",
    "earth = box(pos=scale[\"pos\"]*vec(0,0,0), size=vec(10, 0.2,10), color=scale[\"rgb\"]*vec(75,83,20))\n",
    "\n",
    "# Initial time values and time steps\n",
    "t = 0\n",
    "deltat = 0.001\n",
    "\n",
    "# Initial velocity for Ball\n",
    "ball.velocity = vector(0,0,0)\n",
    "\n",
    "# Update ball position\n",
    "ball.pos = ball.pos + ball.velocity*deltat\n",
    "\n",
    "# scene.autoscale = False # No fancy camera scaling1/deltat\n",
    "\n",
    "while t < 40: \n",
    "    \n",
    "    rate( 1/deltat ) # Loop iteration rate \n",
    "    \n",
    "    # Update ball velocity and position \n",
    "    ball.velocity.y = ball.velocity.y + g*deltat\n",
    "    ball.pos = ball.pos + ball.velocity*deltat\n",
    "    t = t + deltat\n",
    "    \n",
    "    # Top and Bottom -> y component\n",
    "    if (ball.pos.y - ball.radius) <= (earth.pos.y):\n",
    "        if ball.velocity.y > 0: \n",
    "            continue \n",
    "        elif abs(ball.velocity.y) < 0.04: \n",
    "            break\n",
    "        else: \n",
    "            ball.velocity.y = -ball.velocity.y "
   ]
  },
  {
   "cell_type": "markdown",
   "id": "488fd486",
   "metadata": {},
   "source": [
    "## 3 Inelastic Collision "
   ]
  },
  {
   "cell_type": "code",
   "execution_count": null,
   "id": "d8b73ed1",
   "metadata": {},
   "outputs": [],
   "source": [
    "inelastic = canvas()\n",
    "\n",
    "# coefficient of resitution \n",
    "tao = 0.75\n",
    "\n",
    "ball = sphere(pos=init_pos, radius=0.5, color=color.cyan)\n",
    "earth = box(pos=scale[\"pos\"]*vec(0,0,0), size=vec(10, 0.2,10), color=scale[\"rgb\"]*vec(75,83,20))\n",
    "\n",
    "# Initial time values and time steps\n",
    "t = 0\n",
    "deltat = 0.001\n",
    "\n",
    "# Initial velocity for Ball\n",
    "ball.velocity = vector(0,0,0)\n",
    "\n",
    "# Update ball position\n",
    "ball.pos = ball.pos + ball.velocity*deltat\n",
    "\n",
    "# scene.autoscale = False # No fancy camera scaling1/deltat\n",
    "\n",
    "while True: \n",
    "    \n",
    "    rate( 1/deltat ) # Loop iteration rate \n",
    "    \n",
    "    # Update ball velocity and position \n",
    "    ball.velocity.y = ball.velocity.y + g*deltat\n",
    "    ball.pos = ball.pos + ball.velocity*deltat\n",
    "    t = t + deltat\n",
    "    \n",
    "    # Top and Bottom -> y component\n",
    "    if (ball.pos.y - ball.radius) <= (earth.pos.y):\n",
    "        if ball.velocity.y > 0: \n",
    "            continue \n",
    "        elif abs(ball.velocity.y) < 0.04: \n",
    "            break\n",
    "        else: \n",
    "            ball.velocity.y = -tao*ball.velocity.y "
   ]
  },
  {
   "cell_type": "markdown",
   "id": "a75ac772",
   "metadata": {},
   "source": [
    "## 4 Inelastic Launch"
   ]
  },
  {
   "cell_type": "code",
   "execution_count": null,
   "id": "5dbcd3ee",
   "metadata": {},
   "outputs": [
    {
     "data": {
      "text/html": [
       "<div id=\"glowscript\" class=\"glowscript\"></div>"
      ],
      "text/plain": [
       "<IPython.core.display.HTML object>"
      ]
     },
     "metadata": {},
     "output_type": "display_data"
    },
    {
     "data": {
      "application/javascript": [
       "if (typeof Jupyter !== \"undefined\") { window.__context = { glowscript_container: $(\"#glowscript\").removeAttr(\"id\")};}else{ element.textContent = ' ';}"
      ],
      "text/plain": [
       "<IPython.core.display.Javascript object>"
      ]
     },
     "metadata": {},
     "output_type": "display_data"
    }
   ],
   "source": [
    "launch = canvas()\n",
    "\n",
    "# coefficient of resitution and friction\n",
    "tao = 0.75\n",
    "mu = 1.0 # Rubber on concrete \n",
    "init_pos = vec(-10, 10, 0)\n",
    "\n",
    "ball = sphere(pos=init_pos, radius=0.5, color=color.cyan)\n",
    "earth = box(pos=vec(0,0,0), size=vec(50, 0.2,10), color=scale[\"rgb\"]*vec(75,83,20))\n",
    "\n",
    "# Initial time values and time steps\n",
    "t = 0\n",
    "deltat = 0.001\n",
    "\n",
    "# Initial velocity for Ball\n",
    "ball.velocity = vector(5, 5, 0)\n",
    "\n",
    "# Update ball position\n",
    "ball.pos = ball.pos + ball.velocity*deltat\n",
    "\n",
    "launch.autoscale = False # No fancy camera scaling1/deltat\n",
    "\n",
    "while True: \n",
    "    \n",
    "    rate( 1/deltat ) # Loop iteration rate \n",
    "    \n",
    "    # Update ball velocity and position \n",
    "    ball.velocity.y = ball.velocity.y + g*deltat\n",
    "    ball.pos = ball.pos + ball.velocity*deltat\n",
    "    t = t + deltat\n",
    "    \n",
    "    # Top and Bottom -> y component\n",
    "    if (ball.pos.y - ball.radius) <= (earth.pos.y):\n",
    "        if ball.velocity.y > 0: \n",
    "            continue \n",
    "        elif abs(ball.velocity.y) < 0.04 and abs(ball.velocity.x) <= 0.01: \n",
    "            break\n",
    "        else: \n",
    "            ball.velocity.y = -tao*ball.velocity.y\n",
    "            ball.velocity.x = ball.velocity.x + (-mu)*deltat\n",
    "    \n",
    "    launch.camera.pos = ball.pos\n",
    "    "
   ]
  },
  {
   "cell_type": "code",
   "execution_count": null,
   "id": "447ba22f",
   "metadata": {},
   "outputs": [],
   "source": []
  }
 ],
 "metadata": {
  "kernelspec": {
   "display_name": "Python 3 (ipykernel)",
   "language": "python",
   "name": "python3"
  },
  "language_info": {
   "codemirror_mode": {
    "name": "ipython",
    "version": 3
   },
   "file_extension": ".py",
   "mimetype": "text/x-python",
   "name": "python",
   "nbconvert_exporter": "python",
   "pygments_lexer": "ipython3",
   "version": "3.9.7"
  }
 },
 "nbformat": 4,
 "nbformat_minor": 5
}
