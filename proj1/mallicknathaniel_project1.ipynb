{
 "cells": [
  {
   "cell_type": "markdown",
   "id": "f564d6ed",
   "metadata": {},
   "source": [
    "<h3 align=\"left\"> Nathaniel Mallick</h3>\n",
    "<h1>\n",
    "    <font size='20px' color='blue'>Project 1</font>\n",
    "</h1>"
   ]
  },
  {
   "cell_type": "markdown",
   "id": "bd2817cf",
   "metadata": {},
   "source": [
    "<h1 align=\"center\"><em>Imports and Global Variables</em></h2>"
   ]
  },
  {
   "cell_type": "code",
   "execution_count": 1,
   "id": "cdd4cd5b",
   "metadata": {},
   "outputs": [
    {
     "data": {
      "text/html": [
       "<div id=\"glowscript\" class=\"glowscript\"></div>"
      ],
      "text/plain": [
       "<IPython.core.display.HTML object>"
      ]
     },
     "metadata": {},
     "output_type": "display_data"
    },
    {
     "data": {
      "application/javascript": [
       "if (typeof Jupyter !== \"undefined\") { window.__context = { glowscript_container: $(\"#glowscript\").removeAttr(\"id\")};}else{ element.textContent = ' ';}"
      ],
      "text/plain": [
       "<IPython.core.display.Javascript object>"
      ]
     },
     "metadata": {},
     "output_type": "display_data"
    }
   ],
   "source": [
    "from vpython import *\n",
    "import matplotlib.pyplot as plt\n",
    "import math\n",
    "\n",
    "g = -9.8 # GRAVITY (in a John Mayer voice)\n",
    "\n",
    "# Used to create some fancy coloring and scale poisiton \n",
    "scale = { \n",
    "    \"pos\" : 0.5,\n",
    "    \"rgb\" : (1.0/255)\n",
    "}"
   ]
  },
  {
   "cell_type": "markdown",
   "id": "f3911f9d",
   "metadata": {},
   "source": [
    "<h2 align=\"center\"><font color=\"blue\">(1.a) Falling</font></h2>\n",
    "\n",
    "### Free Falling\n",
    "#### $\\ v = v_0 + at$ \n",
    "#### $\\Delta x = v_0t + \\frac{1}{2} at^2$\n",
    "#### $\\ v_0 = 0 \\;\\;\\;\\;\\;\\;\\;\\; a = -9.8$.\n"
   ]
  },
  {
   "cell_type": "code",
   "execution_count": 113,
   "id": "e66bb3c2",
   "metadata": {},
   "outputs": [
    {
     "data": {
      "text/html": [
       "<div id=\"glowscript\" class=\"glowscript\"></div>"
      ],
      "text/plain": [
       "<IPython.core.display.HTML object>"
      ]
     },
     "metadata": {},
     "output_type": "display_data"
    },
    {
     "data": {
      "application/javascript": [
       "if (typeof Jupyter !== \"undefined\") { window.__context = { glowscript_container: $(\"#glowscript\").removeAttr(\"id\")};}else{ element.textContent = ' ';}"
      ],
      "text/plain": [
       "<IPython.core.display.Javascript object>"
      ]
     },
     "metadata": {},
     "output_type": "display_data"
    },
    {
     "data": {
      "text/plain": [
       "Text(0.5, 0, 'Time (s)')"
      ]
     },
     "execution_count": 113,
     "metadata": {},
     "output_type": "execute_result"
    },
    {
     "data": {
      "image/png": "[encoded data removed]",
      "text/plain": [
       "<Figure size 432x288 with 1 Axes>"
      ]
     },
     "metadata": {
      "needs_background": "light"
     },
     "output_type": "display_data"
    }
   ],
   "source": [
    "falling = canvas() # Falling scene\n",
    "scene.autoscale = False # No fancy camera scaling1/deltat\n",
    "\n",
    "# Initial Variables\n",
    "init_pos = vec(0,20,0)\n",
    "init_vel = vec(0,0,0)\n",
    "t = 0\n",
    "deltat = 0.001\n",
    "\n",
    "# Create Objects\n",
    "ball = sphere(pos=init_pos, radius=0.5, color=color.cyan)\n",
    "earth = box(pos=scale[\"pos\"]*vec(0,0,0), size=vec(10, 0.2,10), color=scale[\"rgb\"]*vec(75,83,20))\n",
    "\n",
    "# Creating velocity variable for the ball\n",
    "ball.velocity = init_vel\n",
    "\n",
    "# Update ball position\n",
    "ball.pos = ball.pos + ball.velocity*deltat\n",
    "\n",
    "# Data for plotting \n",
    "y = []\n",
    "v = []\n",
    "time = []\n",
    "# Simulation Loop\n",
    "while True: \n",
    "    \n",
    "    rate( 1000 ) # Loop iteration rate \n",
    "    \n",
    "    # Data\n",
    "    time.append(t)\n",
    "    y.append(ball.pos.y)\n",
    "    v.append(ball.velocity.y)\n",
    "    \n",
    "    # Update ball velocity and position \n",
    "    ball.velocity.y = ball.velocity.y + g*deltat\n",
    "    ball.pos = ball.pos + ball.velocity*deltat\n",
    "    t = t + deltat\n",
    "    \n",
    "    # Check if ball has collided with ground\n",
    "    if (ball.pos.y - ball.radius) <= (earth.pos.y):\n",
    "        break;\n",
    "        \n",
    "# Plotting     \n",
    "fig, ax = plt.subplots()\n",
    "ax.plot(time, y, label=\"Vertical Distance\")\n",
    "ax.plot(time, v, label=\"Vertical Velocity\")\n",
    "ax.legend()\n",
    "ax.set_title(\"Figure 1(a)\")\n",
    "ax.set_xlabel(\"Time (s)\")"
   ]
  },
  {
   "cell_type": "markdown",
   "id": "8bae4d1b",
   "metadata": {},
   "source": [
    "\n",
    "#### Figure 1(a) shows the decrease in velocity due to gravity and closure of distance between the balls initial height and ground. Final velocity and distance are verified with   $\\ v = v_0 + at$ and  $\\Delta x = v_0t + \\frac{1}{2} at^2$ respectively with $\\ v_0 = 0$ , $\\ t = 2$ and $\\ a = -9.8$. \n"
   ]
  },
  {
   "cell_type": "markdown",
   "id": "4e22fc32",
   "metadata": {},
   "source": [
    "<h2 align=\"center\"><font color=\"blue\">1.b Elastic Collision</font></h2>"
   ]
  },
  {
   "cell_type": "markdown",
   "id": "10894216",
   "metadata": {},
   "source": [
    "### Simulation of ball bouncing ( Elastic ) \n",
    "#### $ v = -v \\;\\; (on\\;collision)$"
   ]
  },
  {
   "cell_type": "code",
   "execution_count": 90,
   "id": "6736a51b",
   "metadata": {
    "scrolled": true
   },
   "outputs": [
    {
     "data": {
      "text/html": [
       "<div id=\"glowscript\" class=\"glowscript\"></div>"
      ],
      "text/plain": [
       "<IPython.core.display.HTML object>"
      ]
     },
     "metadata": {},
     "output_type": "display_data"
    },
    {
     "data": {
      "application/javascript": [
       "if (typeof Jupyter !== \"undefined\") { window.__context = { glowscript_container: $(\"#glowscript\").removeAttr(\"id\")};}else{ element.textContent = ' ';}"
      ],
      "text/plain": [
       "<IPython.core.display.Javascript object>"
      ]
     },
     "metadata": {},
     "output_type": "display_data"
    },
    {
     "name": "stdout",
     "output_type": "stream",
     "text": [
      "20 seconds have passed\n"
     ]
    }
   ],
   "source": [
    "elastic = canvas() # Scene\n",
    "scene.autoscale = False # No fancy camera scaling1/deltat\n",
    "\n",
    "# Initial variables of time, dt, and position\n",
    "t = 0\n",
    "deltat = 0.001\n",
    "init_pos = vec(0,20,0)\n",
    "init_vel = vec(0,0,0)\n",
    "\n",
    "# Create Objects\n",
    "ball = sphere(pos=init_pos, radius=0.5, color=color.cyan)\n",
    "earth = box(pos=scale[\"pos\"]*vec(0,0,0), size=vec(10, 0.2,10), color=scale[\"rgb\"]*vec(75,83,20))\n",
    "\n",
    "# Initial velocity for Ball\n",
    "ball.velocity = init_vel\n",
    "\n",
    "# Update ball position\n",
    "ball.pos = ball.pos + ball.velocity*deltat\n",
    "\n",
    "# Simulation loop - this will end when t = 20 ( 20 seconds have passed )\n",
    "while t < 20: \n",
    "    \n",
    "    rate( 1000 ) # Loop iteration rate \n",
    "    \n",
    "    # Update ball velocity and position \n",
    "    ball.velocity.y = ball.velocity.y + g*deltat\n",
    "    ball.pos = ball.pos + ball.velocity*deltat\n",
    "    t = t + deltat\n",
    "    \n",
    "    # Check if ball has collided with ground\n",
    "    if (ball.pos.y - ball.radius) <= (earth.pos.y):\n",
    "        if ball.velocity.y <= 0: \n",
    "            ball.velocity.y = -ball.velocity.y \n",
    "        elif abs(ball.velocity.y) < 0.04: \n",
    "            break\n",
    "        \n",
    "print(\"20 seconds have passed\")"
   ]
  },
  {
   "cell_type": "markdown",
   "id": "60b0441b",
   "metadata": {},
   "source": [
    "\n",
    "#### This simulation models a ball dropped from a specific height. As the ball colides with the ground it doesn't lose any energy and bounces back up. In theory this model of the ball falling will bounce forever. \n"
   ]
  },
  {
   "cell_type": "markdown",
   "id": "15f7b564",
   "metadata": {},
   "source": [
    "<h2 align=\"center\"><font color=\"blue\">1.c Launch</font></h2>\n",
    "\n",
    "### Inelastic Launch ( no air resistance ) \n",
    "#### $ F_{friction} = \\mu N \\;\\;\\;\\;\\;\\;\\;\\; \\mu = 1.0 $\n",
    "#### $ (mass\\;of\\;ball)\\;m = 0.624 kg $"
   ]
  },
  {
   "cell_type": "code",
   "execution_count": 110,
   "id": "d3b488c7",
   "metadata": {},
   "outputs": [
    {
     "data": {
      "text/html": [
       "<div id=\"glowscript\" class=\"glowscript\"></div>"
      ],
      "text/plain": [
       "<IPython.core.display.HTML object>"
      ]
     },
     "metadata": {},
     "output_type": "display_data"
    },
    {
     "data": {
      "application/javascript": [
       "if (typeof Jupyter !== \"undefined\") { window.__context = { glowscript_container: $(\"#glowscript\").removeAttr(\"id\")};}else{ element.textContent = ' ';}"
      ],
      "text/plain": [
       "<IPython.core.display.Javascript object>"
      ]
     },
     "metadata": {},
     "output_type": "display_data"
    },
    {
     "data": {
      "image/png": "[encoded data removed]",
      "text/plain": [
       "<Figure size 432x288 with 1 Axes>"
      ]
     },
     "metadata": {
      "needs_background": "light"
     },
     "output_type": "display_data"
    }
   ],
   "source": [
    "launch = canvas()\n",
    "launch.autoscale = False # No fancy camera scaling1/deltat\n",
    "\n",
    "# Initial time values, time steps and velocity \n",
    "t = 0\n",
    "deltat = 0.001\n",
    "init_velocity = vec(5,5,0)\n",
    "init_pos = vec(-10, 5, 0)\n",
    "\n",
    "# constants for inelasticity and friction \n",
    "tao = 0.75\n",
    "mu = 1.0 # Rubber on concrete \n",
    "\n",
    "# Mass of ball\n",
    "m = 0.624 # basketball in kg\n",
    "\n",
    "# Create objects\n",
    "ball = sphere(pos=init_pos, velocity=init_velocity, radius=0.5, color=color.cyan)\n",
    "earth = box(pos=vec(0,0,0), size=vec(50, 0.2,10), color=scale[\"rgb\"]*vec(75,83,20))\n",
    "\n",
    "\n",
    "# Update ball position\n",
    "ball.pos = ball.pos + ball.velocity*deltat\n",
    "\n",
    "# Data accumulation variables\n",
    "x = [] # Ball distance in the Y - direction \n",
    "v = [] # Ball velocity in the Y - direction \n",
    "time = []\n",
    "a = 9.8\n",
    "\n",
    "while True: \n",
    "    # Loop iteration rate \n",
    "    rate( 1000 ) \n",
    "#     launch.camera.pos = ball.pos \n",
    "    # For plotting time, distance and velocity\n",
    "    time.append(t)\n",
    "    x.append(ball.pos.y)\n",
    "    v.append(ball.velocity.y)\n",
    "    \n",
    "    # Update ball velocity and position \n",
    "    ball.velocity.y = ball.velocity.y + g*deltat\n",
    "    ball.pos = ball.pos + ball.velocity*deltat\n",
    "    \n",
    "    # Add more earth for the ball to bounce on\n",
    "    earth.size.x =  earth.size.x + ball.pos.x\n",
    "    \n",
    "    # Top and Bottom -> y component\n",
    "    if (ball.pos.y - ball.radius) <= (earth.pos.y):\n",
    "        if ball.velocity.y > 0: \n",
    "            continue \n",
    "        # Threshold to stop\n",
    "        elif abs(ball.velocity.y) < 0.04 and abs(ball.velocity.x) <= 0.01: \n",
    "            break\n",
    "        else: \n",
    "            ball.velocity.y = -tao*ball.velocity.y\n",
    "            ball.velocity.x = ball.velocity.x + (-mu/m)*deltat\n",
    "\n",
    "    t = t + deltat # update time\n",
    "    \n",
    "# Plotting \n",
    "fig, ax = plt.subplots() \n",
    "ax.plot(time, x)\n",
    "ax.plot(time, v)\n",
    "ax.set_title(\"Figure 1(c)\\nVertical Distance(m), Velocity(m/s) vs. Time\")\n",
    "ax.set_xlabel(\"Time (s)\")\n",
    "plt.show()\n"
   ]
  },
  {
   "cell_type": "markdown",
   "id": "a831ebbe",
   "metadata": {},
   "source": [
    "\n",
    "#### This simulation models a launch ball with x and y initial comonents in velocity. Ground friction is introduce whener the ball comes in contact with the ground. Eventually the ball comes to a completely halt which confirms ground friction and the bleeding of horizontal speed. Figure 1(c) also shows the inelastic characteristics of each collision and the corresponding vertical components. As vertical distance converges to 0 (ground) we observe a sharp, discontinuous spike in velocity. We can confirm the inelastic characteristics as the vertical velocity eventually bleeds to 0. \n"
   ]
  },
  {
   "cell_type": "markdown",
   "id": "00d0e7f5",
   "metadata": {},
   "source": [
    "<h2 align=\"center\"><font color=\"blue\">1.d Launch with Air Resistance</font></h2>\n",
    "\n",
    "### Air Restance ( Drag )\n",
    "#### $ a_d = \\frac{1}{2} \\rho v^2C_dA\\;\\;\\;\\;\\;\\;\\;\\;C_d = 0.47\\;\\;\\;\\;\\;\\;\\;\\;\\rho = 1.2$\n"
   ]
  },
  {
   "cell_type": "code",
   "execution_count": 3,
   "id": "77695cd8",
   "metadata": {},
   "outputs": [
    {
     "data": {
      "text/html": [
       "<div id=\"glowscript\" class=\"glowscript\"></div>"
      ],
      "text/plain": [
       "<IPython.core.display.HTML object>"
      ]
     },
     "metadata": {},
     "output_type": "display_data"
    },
    {
     "data": {
      "application/javascript": [
       "if (typeof Jupyter !== \"undefined\") { window.__context = { glowscript_container: $(\"#glowscript\").removeAttr(\"id\")};}else{ element.textContent = ' ';}"
      ],
      "text/plain": [
       "<IPython.core.display.Javascript object>"
      ]
     },
     "metadata": {},
     "output_type": "display_data"
    },
    {
     "data": {
      "image/png": "[encoded data removed]",
      "text/plain": [
       "<Figure size 432x288 with 1 Axes>"
      ]
     },
     "metadata": {
      "needs_background": "light"
     },
     "output_type": "display_data"
    },
    {
     "data": {
      "image/png": "[encoded data removed]",
      "text/plain": [
       "<Figure size 432x288 with 1 Axes>"
      ]
     },
     "metadata": {
      "needs_background": "light"
     },
     "output_type": "display_data"
    }
   ],
   "source": [
    "scene = canvas()\n",
    "scene.autoscale = False # No fancy camera scaling1/deltat\n",
    "\n",
    "init_pos = vec(-15, 5, 0)\n",
    "init_vel = vec(5, 5, 0)\n",
    "t = 0\n",
    "deltat = 0.001\n",
    "\n",
    "# Created objects\n",
    "ball1 = sphere(pos=init_pos, radius=0.5, color=color.cyan, make_trail=True)\n",
    "ball2 = sphere(pos=init_pos, radius=0.5, color=color.red, make_trail=True)\n",
    "earth = box(pos=vec(0,0,0), size=vec(50, 0.1,10), color=scale[\"rgb\"]*vec(75,83,20))\n",
    "\n",
    "# Air Resistance and Friction Constants\n",
    "rho = 1.2 # 1.2\n",
    "C = 0.47\n",
    "mu = 1.0 # Rubber on concrete \n",
    "tao = 0.75 # Inelastic constant\n",
    "\n",
    "# Mass and Surface Area of ball\n",
    "# Ball is scaled by 0.2 to get the average radius of a basketball \n",
    "A = pi*((0.2*ball1.radius) ** 2)\n",
    "m = 0.624 # basketball in kg\n",
    "\n",
    "\n",
    "ball1.velocity = init_vel\n",
    "ball2.velocity = init_vel\n",
    "\n",
    "a_free = vec(0, -9.8, 0)\n",
    "a_net = a_free - (0.5)*rho*A*C*(mag(ball1.velocity)**2)*norm(ball1.velocity)/m\n",
    "\n",
    "\n",
    "ball1_done = False\n",
    "ball2_done = False\n",
    "\n",
    "# Dictionary for data to plot \n",
    "data = { \n",
    "    \"time\" : [],\n",
    "    \"x-b1\" : [],\n",
    "    \"x-b2\" : [],\n",
    "    \"y-b1\" : [],\n",
    "    \"y-b2\" : []\n",
    "}\n",
    "\n",
    "# Simulation loop - ends after both balls come to rest \n",
    "while True: \n",
    "\n",
    "    # Loop iteration rate \n",
    "    rate( 1000 ) \n",
    "    \n",
    "    # Add more earth for the ball to bounce on\n",
    "    earth.size.x =  earth.size.x + ball1.pos.x\n",
    "    \n",
    "    # Check if either ball is still moving \n",
    "    if not ball1_done or not ball2_done:\n",
    "\n",
    "        # Data for plotting\n",
    "        data['time'].append(t)\n",
    "        \n",
    "        data[\"x-b1\"].append(ball1.pos.x)\n",
    "        data[\"y-b1\"].append(ball1.pos.y) \n",
    "        \n",
    "        data[\"x-b2\"].append(ball2.pos.x)\n",
    "        data[\"y-b2\"].append(ball2.pos.y)\n",
    "            \n",
    "        if not ball1_done:\n",
    "    \n",
    "            # Update velocity and position for ball1\n",
    "            a_net = a_free - (0.5)*rho*A*C*(mag(ball1.velocity)**2)*norm(ball1.velocity)/m\n",
    "            ball1.velocity = ball1.velocity  + a_net*deltat\n",
    "            ball1.pos = ball1.pos + ball1.velocity*deltat\n",
    "\n",
    "            # Check collision and velocity\n",
    "            if (ball1.pos.y - ball1.radius) <= (earth.pos.y):\n",
    "                if mag(ball1.velocity) < 0.04: \n",
    "                    ball1_done = True\n",
    "                elif ball1.velocity.y <= 0: \n",
    "                    ball1.velocity.y = -tao*ball1.velocity.y\n",
    "                    ball1.velocity.x = ball1.velocity.x + (-mu/m)*deltat \n",
    "\n",
    "        if not ball2_done: \n",
    "            \n",
    "            # Update velocity and position for ball2\n",
    "            ball2.velocity = ball2.velocity + a_free*deltat\n",
    "            ball2.pos = ball2.pos + ball2.velocity*deltat\n",
    "\n",
    "            # Check collision and velocity\n",
    "            if (ball2.pos.y - ball2.radius) <= (earth.pos.y):\n",
    "                if mag(ball1.velocity) < 0.04: \n",
    "                    ball2_done = True\n",
    "                elif ball2.velocity.y <= 0: \n",
    "                    ball2.velocity.y = -tao*ball2.velocity.y\n",
    "                    ball2.velocity.x = ball2.velocity.x + (-mu/m)*deltat \n",
    "                    \n",
    "    else: \n",
    "        break\n",
    "    \n",
    "    t = t + deltat # update time        \n",
    "                \n",
    "# term_vel = sqrt(-(2*m*a_free.y)/(rho*A*C))\n",
    "# print(term_vel)\n",
    "\n",
    "# Plotting\n",
    "fig1, ax1 = plt.subplots() \n",
    "ax1.plot(data['time'], data['x-b1'])\n",
    "ax1.plot(data['time'], data['x-b2'])\n",
    "ax1.set_title(\"Horizontal Distance vs. Time\")\n",
    "ax1.set_xlabel(\"Time(seconds)\")\n",
    "ax1.set_ylabel(\"Horizontal Distance(meters)\")\n",
    "\n",
    "\n",
    "fig2, ax2 = plt.subplots()\n",
    "ax1.set_title(\"Vertical Distance vs. Time\")\n",
    "ax2.plot(data['time'], data['y-b1'])\n",
    "ax2.plot(data['time'], data['y-b2'])\n",
    "ax2.set_title(\"Vertical Distance vs. Time\")\n",
    "ax2.set_xlabel(\"Time (seconds)\")\n",
    "ax2.set_ylabel(\"Vertical Distance (meters)\")\n",
    "plt.show()"
   ]
  },
  {
   "cell_type": "markdown",
   "id": "82ad16ff",
   "metadata": {},
   "source": [
    "\n",
    "#### This simulation introduces air resistance combined with all the previous components of projected and free-fall characteristics of an object. The red ball references no air resistance while the blue ball demonstrates an object under the affects of air resistance. The presence of air resistance influence is confirmed with both graphs representing vertical and horizontal distance. In both aspects, the ball under the affects of air resistance falls short of the ball without the affects of air resistance."
   ]
  },
  {
   "cell_type": "markdown",
   "id": "488fd486",
   "metadata": {},
   "source": [
    "<h2 align=\"center\"><font color=\"blue\">1.e Inelastic and Elastic Collision</font></h2> "
   ]
  },
  {
   "cell_type": "code",
   "execution_count": 104,
   "id": "d8b73ed1",
   "metadata": {},
   "outputs": [
    {
     "data": {
      "text/html": [
       "<div id=\"glowscript\" class=\"glowscript\"></div>"
      ],
      "text/plain": [
       "<IPython.core.display.HTML object>"
      ]
     },
     "metadata": {},
     "output_type": "display_data"
    },
    {
     "data": {
      "application/javascript": [
       "if (typeof Jupyter !== \"undefined\") { window.__context = { glowscript_container: $(\"#glowscript\").removeAttr(\"id\")};}else{ element.textContent = ' ';}"
      ],
      "text/plain": [
       "<IPython.core.display.Javascript object>"
      ]
     },
     "metadata": {},
     "output_type": "display_data"
    }
   ],
   "source": [
    "inelastic = canvas()\n",
    "# scene.autoscale = False # No fancy camera scaling1/deltat\n",
    "\n",
    "# Initial time values and time steps\n",
    "t = 0\n",
    "deltat = 0.001\n",
    "\n",
    "# coefficient of resitution for inelastic collision \n",
    "tao = 0.75\n",
    "\n",
    "# Create Objects\n",
    "ball1 = sphere(pos=vec(-1,20,0), radius=0.5, color=color.cyan)\n",
    "ball2 = sphere(pos=vec(1,20,0), radius=0.5, color=color.red)\n",
    "\n",
    "earth = box(pos=scale[\"pos\"]*vec(0,0,0), size=vec(10, 0.2,10), color=scale[\"rgb\"]*vec(75,83,20))\n",
    "\n",
    "# Initial velocity for Ball\n",
    "ball1.velocity = vec(0,0,0)\n",
    "ball2.velocity = vec(0,0,0)\n",
    "\n",
    "# Update ball position\n",
    "ball1.pos = ball1.pos + ball1.velocity*deltat\n",
    "ball2.pos = ball2.pos + ball2.velocity*deltat\n",
    "\n",
    "# Simulation Loop - Terminates when the inelastic ball comes to rest\n",
    "while True: \n",
    "    \n",
    "    rate( 1000 ) # Loop iteration rate \n",
    "    \n",
    "    # Update velocity and position \n",
    "    ball1.velocity.y = ball1.velocity.y + g*deltat\n",
    "    ball2.velocity.y = ball2.velocity.y + g*deltat\n",
    "    \n",
    "    ball1.pos = ball1.pos + ball1.velocity*deltat\n",
    "    ball2.pos = ball2.pos + ball2.velocity*deltat\n",
    "    \n",
    "    # Check collision and velocity \n",
    "    if (ball1.pos.y - ball1.radius) <= (earth.pos.y):\n",
    "        if ball1.velocity.y <= 0: \n",
    "            ball1.velocity.y = -tao*ball1.velocity.y \n",
    "        elif abs(ball1.velocity.y) < 0.04: \n",
    "            break\n",
    "    \n",
    "    if (ball2.pos.y - ball2.radius) <= (earth.pos.y):\n",
    "        if ball2.velocity.y <= 0: \n",
    "            ball2.velocity.y = -ball2.velocity.y \n",
    "            \n",
    "    t = t + deltat"
   ]
  },
  {
   "cell_type": "markdown",
   "id": "f050954c",
   "metadata": {},
   "source": [
    "\n",
    "#### This simulation shows the comparison of elastic and inelastic collision. This demonstrates the entropy of energy as the blue ball comes in contact with the ground \n"
   ]
  }
 ],
 "metadata": {
  "kernelspec": {
   "display_name": "Python 3 (ipykernel)",
   "language": "python",
   "name": "python3"
  },
  "language_info": {
   "codemirror_mode": {
    "name": "ipython",
    "version": 3
   },
   "file_extension": ".py",
   "mimetype": "text/x-python",
   "name": "python",
   "nbconvert_exporter": "python",
   "pygments_lexer": "ipython3",
   "version": "3.9.7"
  }
 },
 "nbformat": 4,
 "nbformat_minor": 5
}
